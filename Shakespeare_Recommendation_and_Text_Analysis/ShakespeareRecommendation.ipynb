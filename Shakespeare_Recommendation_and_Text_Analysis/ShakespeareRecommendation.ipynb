{
  "nbformat": 4,
  "nbformat_minor": 0,
  "metadata": {
    "kernelspec": {
      "display_name": "Python 3",
      "language": "python",
      "name": "python3"
    },
    "language_info": {
      "codemirror_mode": {
        "name": "ipython",
        "version": 3
      },
      "file_extension": ".py",
      "mimetype": "text/x-python",
      "name": "python",
      "nbconvert_exporter": "python",
      "pygments_lexer": "ipython3",
      "version": "3.8.5"
    },
    "colab": {
      "name": "ShakespeareRecommendation.ipynb",
      "provenance": []
    }
  },
  "cells": [
    {
      "cell_type": "markdown",
      "metadata": {
        "id": "lEjV-zPksGYo"
      },
      "source": [
        "# Shakespeare: Recommendation and Text Analysis"
      ]
    },
    {
      "cell_type": "markdown",
      "metadata": {
        "id": "ZriuqfxVsGYy"
      },
      "source": [
        "Author: Ralph Parlin"
      ]
    },
    {
      "cell_type": "markdown",
      "metadata": {
        "id": "Ly8mTqD1sGY0"
      },
      "source": [
        "Many believe William Shakespeare is considered one of the greatest playwrights in the English language. He is attributed with 38 plays, 154 sonnets, and other works. Even 400 years later, his writings are still be studied in most high schools and colleges in the US and elsewhere. Shakespeare’s complete works are available online at http://shakespeare.mit.edu/. This analysis uses a data set which has Shakespeare character quotes. A lot of people are fascinated by the characters in the Shakespeare plays. The first first part of the analysiscreates a Shakespeare character recommender system which is capable of recommending new characters which are similar to a speicific character of interest. This analysis also explores using PCA inference to find important words in character quotes. LAstly, this analysis uses K-Means clustering to try and find one or more character insights."
      ]
    },
    {
      "cell_type": "markdown",
      "metadata": {
        "id": "z9ljyPLIsGY7"
      },
      "source": [
        "## Note that this notebook is expected to run in the Google Colab environment"
      ]
    },
    {
      "cell_type": "markdown",
      "metadata": {
        "id": "mexYskCbsGY-"
      },
      "source": [
        "## Create the Environment\n",
        "\n",
        "Note, if you don't have spark, run this file on Colab.\n"
      ]
    },
    {
      "cell_type": "code",
      "metadata": {
        "id": "kmhTTHulsGZA",
        "outputId": "c60dc33a-3e63-46b8-a9ae-a708bcceb691",
        "colab": {
          "base_uri": "https://localhost:8080/"
        }
      },
      "source": [
        "# Only Run this if you are using Colab\n",
        "%%bash\n",
        "# Do not change or modify this file\n",
        "# Need to install pyspark\n",
        "# if pyspark is already installed, will print a message indicating pyspark already isntalled\n",
        "pip install pyspark\n",
        "\n",
        "# Download the data files from github\n",
        "# If the data file does not exist in the colab environment\n",
        "if [[ ! -f ./diamonds.csv ]]; then \n",
        "   # download the data file from github and save it in this colab environment instance\n",
        "   wget https://raw.githubusercontent.com/Rparlin/DS_Projects/main/Shakespeare_Recommendation_and_Text_Analysis/quotes_by_chars.csv\n",
        "   \n",
        "fi"
      ],
      "execution_count": 1,
      "outputs": [
        {
          "output_type": "stream",
          "text": [
            "Collecting pyspark\n",
            "  Downloading https://files.pythonhosted.org/packages/f0/26/198fc8c0b98580f617cb03cb298c6056587b8f0447e20fa40c5b634ced77/pyspark-3.0.1.tar.gz (204.2MB)\n",
            "Collecting py4j==0.10.9\n",
            "  Downloading https://files.pythonhosted.org/packages/9e/b6/6a4fb90cd235dc8e265a6a2067f2a2c99f0d91787f06aca4bcf7c23f3f80/py4j-0.10.9-py2.py3-none-any.whl (198kB)\n",
            "Building wheels for collected packages: pyspark\n",
            "  Building wheel for pyspark (setup.py): started\n",
            "  Building wheel for pyspark (setup.py): finished with status 'done'\n",
            "  Created wheel for pyspark: filename=pyspark-3.0.1-py2.py3-none-any.whl size=204612243 sha256=1ff6d7fbcc07c2e0124716498b93b12a40e2840362e122f39fcb1251dddf0990\n",
            "  Stored in directory: /root/.cache/pip/wheels/5e/bd/07/031766ca628adec8435bb40f0bd83bb676ce65ff4007f8e73f\n",
            "Successfully built pyspark\n",
            "Installing collected packages: py4j, pyspark\n",
            "Successfully installed py4j-0.10.9 pyspark-3.0.1\n"
          ],
          "name": "stdout"
        },
        {
          "output_type": "stream",
          "text": [
            "--2020-11-14 17:33:06--  https://raw.githubusercontent.com/Rparlin/DS_Projects/main/Shakespeare_Recommendation_and_Text_Analysis/quotes_by_chars.csv\n",
            "Resolving raw.githubusercontent.com (raw.githubusercontent.com)... 151.101.0.133, 151.101.64.133, 151.101.128.133, ...\n",
            "Connecting to raw.githubusercontent.com (raw.githubusercontent.com)|151.101.0.133|:443... connected.\n",
            "HTTP request sent, awaiting response... 200 OK\n",
            "Length: 4201044 (4.0M) [text/plain]\n",
            "Saving to: ‘quotes_by_chars.csv’\n",
            "\n",
            "     0K .......... .......... .......... .......... ..........  1% 4.04M 1s\n",
            "    50K .......... .......... .......... .......... ..........  2% 12.1M 1s\n",
            "   100K .......... .......... .......... .......... ..........  3% 4.64M 1s\n",
            "   150K .......... .......... .......... .......... ..........  4% 20.1M 1s\n",
            "   200K .......... .......... .......... .......... ..........  6% 5.95M 1s\n",
            "   250K .......... .......... .......... .......... ..........  7% 15.6M 1s\n",
            "   300K .......... .......... .......... .......... ..........  8% 28.6M 0s\n",
            "   350K .......... .......... .......... .......... ..........  9% 45.0M 0s\n",
            "   400K .......... .......... .......... .......... .......... 10% 65.9M 0s\n",
            "   450K .......... .......... .......... .......... .......... 12% 29.6M 0s\n",
            "   500K .......... .......... .......... .......... .......... 13% 8.53M 0s\n",
            "   550K .......... .......... .......... .......... .......... 14% 19.8M 0s\n",
            "   600K .......... .......... .......... .......... .......... 15% 30.0M 0s\n",
            "   650K .......... .......... .......... .......... .......... 17% 17.6M 0s\n",
            "   700K .......... .......... .......... .......... .......... 18% 64.4M 0s\n",
            "   750K .......... .......... .......... .......... .......... 19% 19.6M 0s\n",
            "   800K .......... .......... .......... .......... .......... 20% 30.1M 0s\n",
            "   850K .......... .......... .......... .......... .......... 21% 14.5M 0s\n",
            "   900K .......... .......... .......... .......... .......... 23% 41.5M 0s\n",
            "   950K .......... .......... .......... .......... .......... 24% 15.0M 0s\n",
            "  1000K .......... .......... .......... .......... .......... 25% 45.3M 0s\n",
            "  1050K .......... .......... .......... .......... .......... 26% 29.6M 0s\n",
            "  1100K .......... .......... .......... .......... .......... 28% 19.0M 0s\n",
            "  1150K .......... .......... .......... .......... .......... 29% 17.8M 0s\n",
            "  1200K .......... .......... .......... .......... .......... 30% 31.8M 0s\n",
            "  1250K .......... .......... .......... .......... .......... 31% 16.3M 0s\n",
            "  1300K .......... .......... .......... .......... .......... 32% 87.6M 0s\n",
            "  1350K .......... .......... .......... .......... .......... 34% 26.7M 0s\n",
            "  1400K .......... .......... .......... .......... .......... 35% 22.5M 0s\n",
            "  1450K .......... .......... .......... .......... .......... 36% 29.7M 0s\n",
            "  1500K .......... .......... .......... .......... .......... 37% 20.9M 0s\n",
            "  1550K .......... .......... .......... .......... .......... 38% 27.8M 0s\n",
            "  1600K .......... .......... .......... .......... .......... 40% 18.4M 0s\n",
            "  1650K .......... .......... .......... .......... .......... 41% 42.7M 0s\n",
            "  1700K .......... .......... .......... .......... .......... 42% 42.5M 0s\n",
            "  1750K .......... .......... .......... .......... .......... 43% 21.4M 0s\n",
            "  1800K .......... .......... .......... .......... .......... 45% 17.1M 0s\n",
            "  1850K .......... .......... .......... .......... .......... 46% 78.8M 0s\n",
            "  1900K .......... .......... .......... .......... .......... 47% 22.8M 0s\n",
            "  1950K .......... .......... .......... .......... .......... 48% 23.6M 0s\n",
            "  2000K .......... .......... .......... .......... .......... 49% 27.4M 0s\n",
            "  2050K .......... .......... .......... .......... .......... 51% 23.2M 0s\n",
            "  2100K .......... .......... .......... .......... .......... 52% 44.6M 0s\n",
            "  2150K .......... .......... .......... .......... .......... 53% 18.2M 0s\n",
            "  2200K .......... .......... .......... .......... .......... 54% 71.4M 0s\n",
            "  2250K .......... .......... .......... .......... .......... 56% 25.3M 0s\n",
            "  2300K .......... .......... .......... .......... .......... 57% 20.8M 0s\n",
            "  2350K .......... .......... .......... .......... .......... 58% 30.9M 0s\n",
            "  2400K .......... .......... .......... .......... .......... 59% 45.2M 0s\n",
            "  2450K .......... .......... .......... .......... .......... 60% 42.8M 0s\n",
            "  2500K .......... .......... .......... .......... .......... 62% 20.5M 0s\n",
            "  2550K .......... .......... .......... .......... .......... 63% 28.9M 0s\n",
            "  2600K .......... .......... .......... .......... .......... 64% 45.2M 0s\n",
            "  2650K .......... .......... .......... .......... .......... 65% 36.4M 0s\n",
            "  2700K .......... .......... .......... .......... .......... 67% 14.0M 0s\n",
            "  2750K .......... .......... .......... .......... .......... 68% 32.9M 0s\n",
            "  2800K .......... .......... .......... .......... .......... 69% 54.5M 0s\n",
            "  2850K .......... .......... .......... .......... .......... 70% 25.2M 0s\n",
            "  2900K .......... .......... .......... .......... .......... 71% 42.8M 0s\n",
            "  2950K .......... .......... .......... .......... .......... 73% 31.7M 0s\n",
            "  3000K .......... .......... .......... .......... .......... 74% 45.1M 0s\n",
            "  3050K .......... .......... .......... .......... .......... 75% 11.8M 0s\n",
            "  3100K .......... .......... .......... .......... .......... 76% 44.9M 0s\n",
            "  3150K .......... .......... .......... .......... .......... 77% 77.5M 0s\n",
            "  3200K .......... .......... .......... .......... .......... 79% 41.1M 0s\n",
            "  3250K .......... .......... .......... .......... .......... 80% 29.6M 0s\n",
            "  3300K .......... .......... .......... .......... .......... 81% 29.3M 0s\n",
            "  3350K .......... .......... .......... .......... .......... 82% 32.3M 0s\n",
            "  3400K .......... .......... .......... .......... .......... 84% 45.3M 0s\n",
            "  3450K .......... .......... .......... .......... .......... 85% 46.7M 0s\n",
            "  3500K .......... .......... .......... .......... .......... 86% 15.1M 0s\n",
            "  3550K .......... .......... .......... .......... .......... 87% 31.8M 0s\n",
            "  3600K .......... .......... .......... .......... .......... 88% 40.4M 0s\n",
            "  3650K .......... .......... .......... .......... .......... 90% 33.6M 0s\n",
            "  3700K .......... .......... .......... .......... .......... 91% 80.4M 0s\n",
            "  3750K .......... .......... .......... .......... .......... 92% 24.4M 0s\n",
            "  3800K .......... .......... .......... .......... .......... 93% 46.7M 0s\n",
            "  3850K .......... .......... .......... .......... .......... 95% 43.9M 0s\n",
            "  3900K .......... .......... .......... .......... .......... 96% 18.9M 0s\n",
            "  3950K .......... .......... .......... .......... .......... 97% 41.3M 0s\n",
            "  4000K .......... .......... .......... .......... .......... 98% 32.0M 0s\n",
            "  4050K .......... .......... .......... .......... .......... 99% 34.0M 0s\n",
            "  4100K ..                                                    100% 65.8M=0.2s\n",
            "\n",
            "2020-11-14 17:33:07 (22.8 MB/s) - ‘quotes_by_chars.csv’ saved [4201044/4201044]\n",
            "\n"
          ],
          "name": "stderr"
        }
      ]
    },
    {
      "cell_type": "code",
      "metadata": {
        "id": "KvhmWJuPsGZN"
      },
      "source": [
        "# import statements\n",
        "%matplotlib inline\n",
        "from pyspark.sql import SparkSession\n",
        "from pyspark.sql import SQLContext\n",
        "spark = SparkSession \\\n",
        "  .builder \\\n",
        "  .master(\"local[*]\")\\\n",
        "  .config(\"spark.memory.fraction\", 0.8) \\\n",
        "  .config(\"spark.executor.memory\", \"12g\") \\\n",
        "  .config(\"spark.driver.memory\", \"12g\")\\\n",
        "  .config(\"spark.memory.offHeap.enabled\",'true')\\\n",
        "  .config(\"spark.memory.offHeap.size\",\"12g\")\\\n",
        "  .getOrCreate()\n",
        "sc = spark.sparkContext\n",
        "sqlContext = SQLContext(sc)\n",
        "import os"
      ],
      "execution_count": 2,
      "outputs": []
    },
    {
      "cell_type": "markdown",
      "metadata": {
        "id": "GwpL4bDksGZV"
      },
      "source": [
        "## Read the data file into a spark data frame"
      ]
    },
    {
      "cell_type": "markdown",
      "metadata": {
        "id": "hPMH1xhSsGZq"
      },
      "source": [
        "# Part 1: Shakespeare Recommendation System"
      ]
    },
    {
      "cell_type": "code",
      "metadata": {
        "id": "ShBhjv5bsGZt"
      },
      "source": [
        "# Import statements\n",
        "from pyspark.ml import feature\n",
        "from pyspark.ml import clustering\n",
        "from pyspark.ml import Pipeline\n",
        "from pyspark.sql import functions as fn\n",
        "from pyspark.ml import feature, regression, evaluation, Pipeline\n",
        "from pyspark.ml.feature import IDF\n",
        "from pyspark.sql import functions as fn, Row\n",
        "from pyspark.ml.feature import StopWordsRemover\n",
        "from pyspark.ml.feature import CountVectorizer\n",
        "import matplotlib.pyplot as plt\n",
        "import pandas as pd\n",
        "import numpy as np"
      ],
      "execution_count": 3,
      "outputs": []
    },
    {
      "cell_type": "code",
      "metadata": {
        "id": "g7wGECZBsGZy"
      },
      "source": [
        "# Load data into a spark dataframe\n",
        "quotes_by_char_df = spark.read.option(\"inferSchema\", \"true\").option(\"header\", \"true\").csv(\"quotes_by_chars.csv\")"
      ],
      "execution_count": 4,
      "outputs": []
    },
    {
      "cell_type": "code",
      "metadata": {
        "id": "ucXA-J2LsGZ2",
        "outputId": "fab2116b-4d5b-459d-ed73-6751d7952629",
        "colab": {
          "base_uri": "https://localhost:8080/"
        }
      },
      "source": [
        "# Inspect the import\n",
        "quotes_by_char_df.show(5)"
      ],
      "execution_count": 5,
      "outputs": [
        {
          "output_type": "stream",
          "text": [
            "+---+-----------+--------------------+\n",
            "|_c0|  character|          all_quotes|\n",
            "+---+-----------+--------------------+\n",
            "|  0|        & C|Well met, Master ...|\n",
            "|  1|     A Lord|     Sir, it was I. |\n",
            "|  2|A Patrician|This man has marr...|\n",
            "|  3|   A Player|So please your lo...|\n",
            "|  4|      AARON|Now climbeth Tamo...|\n",
            "+---+-----------+--------------------+\n",
            "only showing top 5 rows\n",
            "\n"
          ],
          "name": "stdout"
        }
      ]
    },
    {
      "cell_type": "code",
      "metadata": {
        "id": "1TVa5MvosGZ6",
        "outputId": "152bcd96-2136-4242-c9c3-eabdfbe8a2e7",
        "colab": {
          "base_uri": "https://localhost:8080/"
        }
      },
      "source": [
        "# Inspect the scheme and datatypes\n",
        "quotes_by_char_df.printSchema()"
      ],
      "execution_count": 6,
      "outputs": [
        {
          "output_type": "stream",
          "text": [
            "root\n",
            " |-- _c0: integer (nullable = true)\n",
            " |-- character: string (nullable = true)\n",
            " |-- all_quotes: string (nullable = true)\n",
            "\n"
          ],
          "name": "stdout"
        }
      ]
    },
    {
      "cell_type": "code",
      "metadata": {
        "id": "YpSgD3ktsGaB",
        "outputId": "038a571d-7344-4568-e301-c38b32968921",
        "colab": {
          "base_uri": "https://localhost:8080/"
        }
      },
      "source": [
        "# More dataframe inspection\n",
        "from pyspark.sql import functions as fn # import functions\n",
        "print(\"Number of Observations:\",quotes_by_char_df.count())\n",
        "print(\"Number of Columns:\",len(quotes_by_char_df.columns))\n",
        "print(\"Number of Columns with real data (less the index column):\",(len(quotes_by_char_df.columns)-1))"
      ],
      "execution_count": 7,
      "outputs": [
        {
          "output_type": "stream",
          "text": [
            "Number of Observations: 966\n",
            "Number of Columns: 3\n",
            "Number of Columns with real data (less the index column): 2\n"
          ],
          "name": "stdout"
        }
      ]
    },
    {
      "cell_type": "code",
      "metadata": {
        "id": "CXVConBCsGaF"
      },
      "source": [
        "# Drop the Unnamed Column as instructed\n",
        "drop_col = [\"_c0\"]\n",
        "quotes_by_char_df = quotes_by_char_df.drop(*drop_col)"
      ],
      "execution_count": 8,
      "outputs": []
    },
    {
      "cell_type": "code",
      "metadata": {
        "id": "8yKbpPIasGaL"
      },
      "source": [
        "# Transform the 'character' column such that all character names are lower case\n",
        "from pyspark.sql.functions import col, lower, regexp_replace, split\n",
        "\n",
        "quotes_by_char_df = quotes_by_char_df.withColumn(\"character\", lower(\"character\"))"
      ],
      "execution_count": 9,
      "outputs": []
    },
    {
      "cell_type": "code",
      "metadata": {
        "id": "Cw-RZyifsGaR",
        "outputId": "e3c11777-e765-46bf-bb58-c0841582bd09",
        "colab": {
          "base_uri": "https://localhost:8080/",
          "height": 206
        }
      },
      "source": [
        "# Inspect the work\n",
        "display(quotes_by_char_df.toPandas().head())"
      ],
      "execution_count": 10,
      "outputs": [
        {
          "output_type": "display_data",
          "data": {
            "text/html": [
              "<div>\n",
              "<style scoped>\n",
              "    .dataframe tbody tr th:only-of-type {\n",
              "        vertical-align: middle;\n",
              "    }\n",
              "\n",
              "    .dataframe tbody tr th {\n",
              "        vertical-align: top;\n",
              "    }\n",
              "\n",
              "    .dataframe thead th {\n",
              "        text-align: right;\n",
              "    }\n",
              "</style>\n",
              "<table border=\"1\" class=\"dataframe\">\n",
              "  <thead>\n",
              "    <tr style=\"text-align: right;\">\n",
              "      <th></th>\n",
              "      <th>character</th>\n",
              "      <th>all_quotes</th>\n",
              "    </tr>\n",
              "  </thead>\n",
              "  <tbody>\n",
              "    <tr>\n",
              "      <th>0</th>\n",
              "      <td>&amp; c</td>\n",
              "      <td>Well met, Master Ford.</td>\n",
              "    </tr>\n",
              "    <tr>\n",
              "      <th>1</th>\n",
              "      <td>a lord</td>\n",
              "      <td>Sir, it was I.</td>\n",
              "    </tr>\n",
              "    <tr>\n",
              "      <th>2</th>\n",
              "      <td>a patrician</td>\n",
              "      <td>This man has marr'd his fortune. You do the no...</td>\n",
              "    </tr>\n",
              "    <tr>\n",
              "      <th>3</th>\n",
              "      <td>a player</td>\n",
              "      <td>So please your lordship to accept our duty. I ...</td>\n",
              "    </tr>\n",
              "    <tr>\n",
              "      <th>4</th>\n",
              "      <td>aaron</td>\n",
              "      <td>Now climbeth Tamora Olympus' top, Safe out of ...</td>\n",
              "    </tr>\n",
              "  </tbody>\n",
              "</table>\n",
              "</div>"
            ],
            "text/plain": [
              "     character                                         all_quotes\n",
              "0          & c                            Well met, Master Ford. \n",
              "1       a lord                                    Sir, it was I. \n",
              "2  a patrician  This man has marr'd his fortune. You do the no...\n",
              "3     a player  So please your lordship to accept our duty. I ...\n",
              "4        aaron  Now climbeth Tamora Olympus' top, Safe out of ..."
            ]
          },
          "metadata": {
            "tags": []
          }
        }
      ]
    },
    {
      "cell_type": "markdown",
      "metadata": {
        "id": "a5OuFXi6sGaW"
      },
      "source": [
        "## Clean Data and create inital PCA Pipeline"
      ]
    },
    {
      "cell_type": "code",
      "metadata": {
        "id": "Z_vs-kcbsGaY"
      },
      "source": [
        "# Before establishing the pipeline I'll clean the data to perform better scoring\n",
        "from pyspark.sql.functions import col, lower, regexp_replace, split\n",
        "# Develop clean-up funciton\n",
        "\n",
        "def clean_text(t): \n",
        "    t = lower(t) # move all letters to lowercase\n",
        "    t = regexp_replace(t, \"[^a-z0-9\\\\s]\", \"\") # remove all things that are not included in this range\n",
        "    t = regexp_replace(t, \"(\\s  *)\", \"\")# remove all double and more spaces\n",
        "    return t\n",
        "\n",
        "quotes_by_char_df = quotes_by_char_df.withColumn(\"all_quotes\", (clean_text(col(\"all_quotes\"))))"
      ],
      "execution_count": 11,
      "outputs": []
    },
    {
      "cell_type": "code",
      "metadata": {
        "id": "6Jus_4xssGac",
        "outputId": "9cc9f566-5805-4f1d-923f-d88253a44710",
        "colab": {
          "base_uri": "https://localhost:8080/"
        }
      },
      "source": [
        "# Let's inspect the data to see how the cleaning went\n",
        "quotes_by_char_df.show(10)"
      ],
      "execution_count": 12,
      "outputs": [
        {
          "output_type": "stream",
          "text": [
            "+-----------+--------------------+\n",
            "|  character|          all_quotes|\n",
            "+-----------+--------------------+\n",
            "|        & c|well met master f...|\n",
            "|     a lord|       sir it was i |\n",
            "|a patrician|this man has marr...|\n",
            "|   a player|so please your lo...|\n",
            "|      aaron|now climbeth tamo...|\n",
            "|abergavenny|i cannot tell wha...|\n",
            "|   abhorson|do you call sir a...|\n",
            "|    abraham|do you bite your ...|\n",
            "|   achilles|why how now ajax ...|\n",
            "|       adam|yonder comes my m...|\n",
            "+-----------+--------------------+\n",
            "only showing top 10 rows\n",
            "\n"
          ],
          "name": "stdout"
        }
      ]
    },
    {
      "cell_type": "code",
      "metadata": {
        "id": "tV1RY1CisGaj",
        "outputId": "e6fbe146-6890-44bd-aebd-2a55a4c84ae5",
        "colab": {
          "base_uri": "https://localhost:8080/"
        }
      },
      "source": [
        "# Let's inspect to see if there are rows (chars) with more than one entry\n",
        "chars = quotes_by_char_df \\\n",
        "    .groupby(['character']) \\\n",
        "    .count() \\\n",
        "    .where('count > 1') \\\n",
        "    .sort('count', ascending=False) \\\n",
        "    .show()"
      ],
      "execution_count": 13,
      "outputs": [
        {
          "output_type": "stream",
          "text": [
            "+------------------+-----+\n",
            "|         character|count|\n",
            "+------------------+-----+\n",
            "|             lords|    2|\n",
            "|   second murderer|    2|\n",
            "|         courtezan|    2|\n",
            "|              page|    2|\n",
            "|             nurse|    2|\n",
            "|             ghost|    2|\n",
            "|              both|    2|\n",
            "|             clerk|    2|\n",
            "|posthumus leonatus|    2|\n",
            "|           knights|    2|\n",
            "|          gardener|    2|\n",
            "|               all|    2|\n",
            "|         attendant|    2|\n",
            "+------------------+-----+\n",
            "\n"
          ],
          "name": "stdout"
        }
      ]
    },
    {
      "cell_type": "code",
      "metadata": {
        "id": "4qjB644DsGal",
        "outputId": "63260e05-4bf0-45f8-b420-d3da672f5e79",
        "colab": {
          "base_uri": "https://localhost:8080/"
        }
      },
      "source": [
        "# Turns out some chars have been listed twice.  Rather than just drop duplicate chars, I want to aggregate values (quotes) for all chars.  To do so I will map/reduce.\n",
        "# Map and reduce to eliminate duplicate characters and move thier quotes to reduce by key\n",
        "rdd = quotes_by_char_df.rdd # covert to an rdd\n",
        "\n",
        "rdd.take(5) # inspect the work"
      ],
      "execution_count": 14,
      "outputs": [
        {
          "output_type": "execute_result",
          "data": {
            "text/plain": [
              "[Row(character='& c', all_quotes='well met master ford '),\n",
              " Row(character='a lord', all_quotes='sir it was i '),\n",
              " Row(character='a patrician', all_quotes='this man has marrd his fortune you do the nobler ay and burn too '),\n",
              " Row(character='a player', all_quotes='so please your lordship to accept our duty i think twas soto that your honour means fear not my lord we can contain ourselves were he the veriest antic in the world '),\n",
              " Row(character='aaron', all_quotes='now climbeth tamora olympus top safe out of fortunes shot and sits aloft secure of thunders crack or lightning flash advanced above pale envys threatening reach as when the golden sun salutes the morn and having gilt the ocean with his beams gallops the zodiac in his glistering coach and overlooks the highestpeering hills so tamora upon her wit doth earthly honour wait and virtue stoops and trembles at her frown then aaron arm thy heart and fit thy thoughts to mount aloft with thy imperial mistress and mount her pitch whom thou in triumph long hast prisoner held fetterd in amorous chains and faster bound to aarons charming eyes than is prometheus tied to caucasus away with slavish weeds and servile thoughts i will be bright and shine in pearl and gold to wait upon this newmade empress to wait said i to wanton with this queen this goddess this semiramis this nymph this siren that will charm romes saturnine and see his shipwreck and his commonweals holloa what storm is this asideclubs clubs these lovers will not keep the peace coming forwardwhy how now lords so near the emperors palace dare you draw and maintain such a quarrel openly full well i wot the ground of all this grudge i would not for a million of gold the cause were known to them it most concerns nor would your noble mother for much more be so dishonourd in the court of rome for shame put up away i say now by the gods that warlike goths adore this petty brabble will undo us all why lords and think you not how dangerous it is to jet upon a princes right what is lavinia then become so loose or bassianus so degenerate that for her love such quarrels may be broachd without controlment justice or revenge young lords beware and should the empress know this discords ground the music would not please why are ye mad or know ye not in rome how furious and impatient they be and cannot brook competitors in love i tell you lords you do but plot your deaths by this device to achieve her how asideay and as good as saturninus may why then it seems some certain snatch or so would serve your turns would you had hit it too then should not we be tired with this ado why hark ye hark ye and are you such fools to square for this would it offend you then that both should speed for shame be friends and join for that you jar tis policy and stratagem must do that you affect and so must you resolve that what you cannot as you would achieve you must perforce accomplish as you may take this of me lucrece was not more chaste than this lavinia bassianus love a speedier course than lingering languishment must we pursue and i have found the path my lords a solemn hunting is in hand there will the lovely roman ladies troop the forest walks are wide and spacious and many unfrequented plots there are fitted by kind for rape and villany single you thither then this dainty doe and strike her home by force if not by words this way or not at all stand you in hope come come our empress with her sacred wit to villany and vengeance consecrate will we acquaint with all that we intend and she shall file our engines with advice that will not suffer you to square yourselves but to your wishes height advance you both the emperors court is like the house of fame the palace full of tongues of eyes and ears the woods are ruthless dreadful deaf and dull there speak and strike brave boys and take your turns there serve your lusts shadowd from heavens eye and revel in lavinias treasury he that had wit would think that i had none to bury so much gold under a tree and never after to inherit it let him that thinks of me so abjectly know that this gold must coin a stratagem which cunningly effected will beget a very excellent piece of villany and so repose sweet gold for their unrest that have their alms out of the empress chest madam though venus govern your desires saturn is dominator over mine what signifies my deadlystanding eye my silence and my cloudy melancholy my fleece of woolly hair that now uncurls even as an adder when she doth unroll to do some fatal execution no madam these are no venereal signs vengeance is in my heart death in my hand blood and revenge are hammering in my head hark tamora the empress of my soul which never hopes more heaven than rests in thee this is the day of doom for bassianus his philomel must lose her tongue today thy sons make pillage of her chastity and wash their hands in bassianus blood seest thou this letter take it up i pray thee and give the king this fatal plotted scroll now question me no more we are espied here comes a parcel of our hopeful booty which dreads not yet their lives destruction no more great empress bassianus comes be cross with him and ill go fetch thy sons to back thy quarrels whatsoeer they be come on my lords the better foot before straight will i bring you to the loathsome pit where i espied the panther fast asleep asidenow will i fetch the king to find them here that he thereby may give a likely guess how these were they that made away his brother my gracious lord here is the bag of gold titus andronicus my lord the emperor sends thee this wordthat if thou love thy sons let marcus lucius or thyself old titus or any one of you chop off your hand and send it to the king he for the same will send thee hither both thy sons alive and that shall be the ransom for their fault nay come agree whose hand shall go along for fear they die before their pardon come asideif that be calld deceit i will be honest and never whilst i live deceive men so but ill deceive you in another sort and that youll say ere half an hour pass i go andronicus and for thy hand look by and by to have thy sons with thee their heads i mean o how this villany doth fat me with the very thoughts of it let fools do good and fair men call for grace aaron will have his soul black like his face ay some mad message from his mad grandfather ay just a verse in horace right you have it now what a thing it is to be an ass heres no sound jest the old man hath found their guilt and sends them weapons wrapped about with lines that wound beyond their feeling to the quick but were our witty empress well afoot she would applaud andronicus conceit but let her rest in her unrest awhile and now young lords wast not a happy star led us to rome strangers and more than so captives to be advanced to this height it did me good before the palace gate to brave the tribune in his brothers hearing had he not reason lord demetrius did you not use his daughter very friendly here lacks but your mother for to say amen asidepray to the devils the gods have given us over well more or less or neer a whit at all here aaron is and what with aaron now why what a caterwauling dost thou keep what dost thou wrap and fumble in thine arms to whom well god give her good rest what hath he sent her why then she is the devils dam a joyful issue zounds ye whore is black so base a hue sweet blowse you are a beauteous blossom sure that which thou canst not undo villain i have done thy mother it shall not die what must it nurse then let no man but i do execution on my flesh and blood sooner this sword shall plough thy bowels up stay murderous villains will you kill your brother now by the burning tapers of the sky that shone so brightly when this boy was got he dies upon my scimitars sharp point that touches this my firstborn son and heir i tell you younglings not enceladus with all his threatening band of typhons brood nor great alcides nor the god of war shall seize this prey out of his fathers hands what what ye sanguine shallowhearted boys ye whitelimed walls ye alehouse painted signs coalblack is better than another hue in that it scorns to bear another hue for all the water in the ocean can never turn the swans black legs to white although she lave them hourly in the flood tell the empress from me i am of age to keep mine own excuse it how she can my mistress is my mistress this myself the vigour and the picture of my youth this before all the world do i prefer this maugre all the world will i keep safe or some of you shall smoke for it in rome why theres the privilege your beauty bears fie treacherous hue that will betray with blushing the close enacts and counsels of the heart heres a young lad framed of another leer look how the black slave smiles upon the father as who should say old lad i am thine own he is your brother lords sensibly fed of that selfblood that first gave life to you and from that womb where you imprisond were he is enfranchised and come to light nay he is your brother by the surer side although my seal be stamped in his face then sit we down and let us all consult my son and i will have the wind of you keep there now talk at pleasure of your safety why so brave lords when we join in league i am a lamb but if you brave the moor the chafed boar the mountain lioness the ocean swells not so as aaron storms but say again how many saw the child the empress the midwife and yourself two may keep counsel when the thirds away go to the empress tell her this i said weke weke so cries a pig prepared to the spit o lord sir tis a deed of policy shall she live to betray this guilt of ours a longtongued babbling gossip no lords no and now be it known to you my full intent not far one muli lives my countryman his wife but yesternight was brought to bed his child is like to her fair as you are go pack with him and give the mother gold and tell them both the circumstance of all and how by this their child shall be advanced and be received for the emperors heir and substituted in the place of mine to calm this tempest whirling in the court and let the emperor dandle him for his own hark ye lords ye see i have given her physic and you must needs bestow her funeral the fields are near and you are gallant grooms this done see that you take no longer days but send the midwife presently to me the midwife and the nurse well made away then let the ladies tattle what they please now to the goths as swift as swallow flies there to dispose this treasure in mine arms and secretly to greet the empress friends come on you thick lippd slave ill bear you hence for it is you that puts us to our shifts ill make you feed on berries and on roots and feed on curds and whey and suck the goat and cabin in a cave and bring you up to be a warrior and command a camp touch not the boy he is of royal bloodlucius save the child and bear it from me to the empress if thou do this ill show thee wondrous things that highly may advantage thee to hear if thou wilt not befall what may befall ill speak no more but vengeance rot you all an if it please thee why assure thee lucius twill vex thy soul to hear what i shall speak for i must talk of murders rapes and massacres acts of black night abominable deeds complots of mischief treason villanies ruthful to hear yet piteously performd and this shall all be buried by my death unless thou swear to me my child shall live swear that he shall and then i will begin what if i do not as indeed i do not yet for i know thou art religious and hast a thing within thee called conscience with twenty popish tricks and ceremonies which i have seen thee careful to observe therefore i urge thy oath for that i know an idiot holds his bauble for a god and keeps the oath which by that god he swears to that ill urge him therefore thou shalt vow by that same god what god soeer it be that thou adorest and hast in reverence to save my boy to nourish and bring him up or else i will discover nought to thee first know thou i begot him on the empress tut lucius this was but a deed of charity to that which thou shalt hear of me anon twas her two sons that murderd bassianus they cut thy sisters tongue and ravishd her and cut her hands and trimmd her as thou sawst why she was washd and cut and trimmd and twas trim sport for them that had the doing of it indeed i was their tutor to instruct them that codding spirit had they from their mother as sure a card as ever won the set that bloody mind i think they learnd of me as true a dog as ever fought at head well let my deeds be witness of my worth i traind thy brethren to that guileful hole where the dead corpse of bassianus lay i wrote the letter that thy father found and hid the gold within the letter mentiond confederate with the queen and her two sons and what not done that thou hast cause to rue wherein i had no stroke of mischief in it i playd the cheater for thy fathers hand and when i had it drew myself apart and almost broke my heart with extreme laughter i pryd me through the crevice of a wall when for his hand he had his two sons heads beheld his tears and laughd so heartily that both mine eyes were rainy like to hisand when i told the empress of this sport she swooned almost at my pleasing tale and for my tidings gave me twenty kisses ay like a black dog as the saying is ay that i had not done a thousand more even now i curse the dayand yet i think few come within the compass of my curse wherein i did not some notorious ill as kill a man or else devise his death ravish a maid or plot the way to do it accuse some innocent and forswear myself set deadly enmity between two friends make poor mens cattle break their necks set fire on barns and haystacks in the night and bid the owners quench them with their tears oft have i diggd up dead men from their graves and set them upright at their dear friends doors even when their sorrows almost were forgot and on their skins as on the bark of trees have with my knife carved in roman letters let not your sorrow die though i am dead tut i have done a thousand dreadful things as willingly as one would kill a fly and nothing grieves me heartily indeed but that i cannot do ten thousand more if there be devils would i were a devil to live and burn in everlasting fire so i might have your company in hell but to torment you with my bitter tongue some devil whisper curses in mine ear and prompt me that my tongue may utter forth the venomous malice of my swelling heart o why should wrath be mute and fury dumb i am no baby i that with base prayers i should repent the evils i have done ten thousand worse than ever yet i did would i perform if i might have my will if one good deed in all my life i did i do repent it from my very soul ')]"
            ]
          },
          "metadata": {
            "tags": []
          },
          "execution_count": 14
        }
      ]
    },
    {
      "cell_type": "code",
      "metadata": {
        "id": "wse4dCqAsGap"
      },
      "source": [
        "# Define the map and reduce functions\n",
        "def map_function(row):\n",
        "  return [row[0], row [1]]\n",
        "\n",
        "def reduce_function(value1, value2): #define reduce function\n",
        "    return value1 + value2"
      ],
      "execution_count": 15,
      "outputs": []
    },
    {
      "cell_type": "code",
      "metadata": {
        "id": "-r55gnKesGat",
        "outputId": "ec301a1c-abf4-4935-e31d-471553f42c44",
        "colab": {
          "base_uri": "https://localhost:8080/"
        }
      },
      "source": [
        "# Run and inspect the MapReduce\n",
        "data = rdd.map(map_function).reduceByKey(reduce_function).collect() # run functions and store the collect\n",
        "\n",
        "#Convert the collect data to RDD\n",
        "new_rdd = spark.sparkContext.parallelize(data)\n",
        "\n",
        "new_rdd.take(5) #inspection"
      ],
      "execution_count": 16,
      "outputs": [
        {
          "output_type": "execute_result",
          "data": {
            "text/plain": [
              "[('a lord', 'sir it was i '),\n",
              " ('a player',\n",
              "  'so please your lordship to accept our duty i think twas soto that your honour means fear not my lord we can contain ourselves were he the veriest antic in the world '),\n",
              " ('aaron',\n",
              "  'now climbeth tamora olympus top safe out of fortunes shot and sits aloft secure of thunders crack or lightning flash advanced above pale envys threatening reach as when the golden sun salutes the morn and having gilt the ocean with his beams gallops the zodiac in his glistering coach and overlooks the highestpeering hills so tamora upon her wit doth earthly honour wait and virtue stoops and trembles at her frown then aaron arm thy heart and fit thy thoughts to mount aloft with thy imperial mistress and mount her pitch whom thou in triumph long hast prisoner held fetterd in amorous chains and faster bound to aarons charming eyes than is prometheus tied to caucasus away with slavish weeds and servile thoughts i will be bright and shine in pearl and gold to wait upon this newmade empress to wait said i to wanton with this queen this goddess this semiramis this nymph this siren that will charm romes saturnine and see his shipwreck and his commonweals holloa what storm is this asideclubs clubs these lovers will not keep the peace coming forwardwhy how now lords so near the emperors palace dare you draw and maintain such a quarrel openly full well i wot the ground of all this grudge i would not for a million of gold the cause were known to them it most concerns nor would your noble mother for much more be so dishonourd in the court of rome for shame put up away i say now by the gods that warlike goths adore this petty brabble will undo us all why lords and think you not how dangerous it is to jet upon a princes right what is lavinia then become so loose or bassianus so degenerate that for her love such quarrels may be broachd without controlment justice or revenge young lords beware and should the empress know this discords ground the music would not please why are ye mad or know ye not in rome how furious and impatient they be and cannot brook competitors in love i tell you lords you do but plot your deaths by this device to achieve her how asideay and as good as saturninus may why then it seems some certain snatch or so would serve your turns would you had hit it too then should not we be tired with this ado why hark ye hark ye and are you such fools to square for this would it offend you then that both should speed for shame be friends and join for that you jar tis policy and stratagem must do that you affect and so must you resolve that what you cannot as you would achieve you must perforce accomplish as you may take this of me lucrece was not more chaste than this lavinia bassianus love a speedier course than lingering languishment must we pursue and i have found the path my lords a solemn hunting is in hand there will the lovely roman ladies troop the forest walks are wide and spacious and many unfrequented plots there are fitted by kind for rape and villany single you thither then this dainty doe and strike her home by force if not by words this way or not at all stand you in hope come come our empress with her sacred wit to villany and vengeance consecrate will we acquaint with all that we intend and she shall file our engines with advice that will not suffer you to square yourselves but to your wishes height advance you both the emperors court is like the house of fame the palace full of tongues of eyes and ears the woods are ruthless dreadful deaf and dull there speak and strike brave boys and take your turns there serve your lusts shadowd from heavens eye and revel in lavinias treasury he that had wit would think that i had none to bury so much gold under a tree and never after to inherit it let him that thinks of me so abjectly know that this gold must coin a stratagem which cunningly effected will beget a very excellent piece of villany and so repose sweet gold for their unrest that have their alms out of the empress chest madam though venus govern your desires saturn is dominator over mine what signifies my deadlystanding eye my silence and my cloudy melancholy my fleece of woolly hair that now uncurls even as an adder when she doth unroll to do some fatal execution no madam these are no venereal signs vengeance is in my heart death in my hand blood and revenge are hammering in my head hark tamora the empress of my soul which never hopes more heaven than rests in thee this is the day of doom for bassianus his philomel must lose her tongue today thy sons make pillage of her chastity and wash their hands in bassianus blood seest thou this letter take it up i pray thee and give the king this fatal plotted scroll now question me no more we are espied here comes a parcel of our hopeful booty which dreads not yet their lives destruction no more great empress bassianus comes be cross with him and ill go fetch thy sons to back thy quarrels whatsoeer they be come on my lords the better foot before straight will i bring you to the loathsome pit where i espied the panther fast asleep asidenow will i fetch the king to find them here that he thereby may give a likely guess how these were they that made away his brother my gracious lord here is the bag of gold titus andronicus my lord the emperor sends thee this wordthat if thou love thy sons let marcus lucius or thyself old titus or any one of you chop off your hand and send it to the king he for the same will send thee hither both thy sons alive and that shall be the ransom for their fault nay come agree whose hand shall go along for fear they die before their pardon come asideif that be calld deceit i will be honest and never whilst i live deceive men so but ill deceive you in another sort and that youll say ere half an hour pass i go andronicus and for thy hand look by and by to have thy sons with thee their heads i mean o how this villany doth fat me with the very thoughts of it let fools do good and fair men call for grace aaron will have his soul black like his face ay some mad message from his mad grandfather ay just a verse in horace right you have it now what a thing it is to be an ass heres no sound jest the old man hath found their guilt and sends them weapons wrapped about with lines that wound beyond their feeling to the quick but were our witty empress well afoot she would applaud andronicus conceit but let her rest in her unrest awhile and now young lords wast not a happy star led us to rome strangers and more than so captives to be advanced to this height it did me good before the palace gate to brave the tribune in his brothers hearing had he not reason lord demetrius did you not use his daughter very friendly here lacks but your mother for to say amen asidepray to the devils the gods have given us over well more or less or neer a whit at all here aaron is and what with aaron now why what a caterwauling dost thou keep what dost thou wrap and fumble in thine arms to whom well god give her good rest what hath he sent her why then she is the devils dam a joyful issue zounds ye whore is black so base a hue sweet blowse you are a beauteous blossom sure that which thou canst not undo villain i have done thy mother it shall not die what must it nurse then let no man but i do execution on my flesh and blood sooner this sword shall plough thy bowels up stay murderous villains will you kill your brother now by the burning tapers of the sky that shone so brightly when this boy was got he dies upon my scimitars sharp point that touches this my firstborn son and heir i tell you younglings not enceladus with all his threatening band of typhons brood nor great alcides nor the god of war shall seize this prey out of his fathers hands what what ye sanguine shallowhearted boys ye whitelimed walls ye alehouse painted signs coalblack is better than another hue in that it scorns to bear another hue for all the water in the ocean can never turn the swans black legs to white although she lave them hourly in the flood tell the empress from me i am of age to keep mine own excuse it how she can my mistress is my mistress this myself the vigour and the picture of my youth this before all the world do i prefer this maugre all the world will i keep safe or some of you shall smoke for it in rome why theres the privilege your beauty bears fie treacherous hue that will betray with blushing the close enacts and counsels of the heart heres a young lad framed of another leer look how the black slave smiles upon the father as who should say old lad i am thine own he is your brother lords sensibly fed of that selfblood that first gave life to you and from that womb where you imprisond were he is enfranchised and come to light nay he is your brother by the surer side although my seal be stamped in his face then sit we down and let us all consult my son and i will have the wind of you keep there now talk at pleasure of your safety why so brave lords when we join in league i am a lamb but if you brave the moor the chafed boar the mountain lioness the ocean swells not so as aaron storms but say again how many saw the child the empress the midwife and yourself two may keep counsel when the thirds away go to the empress tell her this i said weke weke so cries a pig prepared to the spit o lord sir tis a deed of policy shall she live to betray this guilt of ours a longtongued babbling gossip no lords no and now be it known to you my full intent not far one muli lives my countryman his wife but yesternight was brought to bed his child is like to her fair as you are go pack with him and give the mother gold and tell them both the circumstance of all and how by this their child shall be advanced and be received for the emperors heir and substituted in the place of mine to calm this tempest whirling in the court and let the emperor dandle him for his own hark ye lords ye see i have given her physic and you must needs bestow her funeral the fields are near and you are gallant grooms this done see that you take no longer days but send the midwife presently to me the midwife and the nurse well made away then let the ladies tattle what they please now to the goths as swift as swallow flies there to dispose this treasure in mine arms and secretly to greet the empress friends come on you thick lippd slave ill bear you hence for it is you that puts us to our shifts ill make you feed on berries and on roots and feed on curds and whey and suck the goat and cabin in a cave and bring you up to be a warrior and command a camp touch not the boy he is of royal bloodlucius save the child and bear it from me to the empress if thou do this ill show thee wondrous things that highly may advantage thee to hear if thou wilt not befall what may befall ill speak no more but vengeance rot you all an if it please thee why assure thee lucius twill vex thy soul to hear what i shall speak for i must talk of murders rapes and massacres acts of black night abominable deeds complots of mischief treason villanies ruthful to hear yet piteously performd and this shall all be buried by my death unless thou swear to me my child shall live swear that he shall and then i will begin what if i do not as indeed i do not yet for i know thou art religious and hast a thing within thee called conscience with twenty popish tricks and ceremonies which i have seen thee careful to observe therefore i urge thy oath for that i know an idiot holds his bauble for a god and keeps the oath which by that god he swears to that ill urge him therefore thou shalt vow by that same god what god soeer it be that thou adorest and hast in reverence to save my boy to nourish and bring him up or else i will discover nought to thee first know thou i begot him on the empress tut lucius this was but a deed of charity to that which thou shalt hear of me anon twas her two sons that murderd bassianus they cut thy sisters tongue and ravishd her and cut her hands and trimmd her as thou sawst why she was washd and cut and trimmd and twas trim sport for them that had the doing of it indeed i was their tutor to instruct them that codding spirit had they from their mother as sure a card as ever won the set that bloody mind i think they learnd of me as true a dog as ever fought at head well let my deeds be witness of my worth i traind thy brethren to that guileful hole where the dead corpse of bassianus lay i wrote the letter that thy father found and hid the gold within the letter mentiond confederate with the queen and her two sons and what not done that thou hast cause to rue wherein i had no stroke of mischief in it i playd the cheater for thy fathers hand and when i had it drew myself apart and almost broke my heart with extreme laughter i pryd me through the crevice of a wall when for his hand he had his two sons heads beheld his tears and laughd so heartily that both mine eyes were rainy like to hisand when i told the empress of this sport she swooned almost at my pleasing tale and for my tidings gave me twenty kisses ay like a black dog as the saying is ay that i had not done a thousand more even now i curse the dayand yet i think few come within the compass of my curse wherein i did not some notorious ill as kill a man or else devise his death ravish a maid or plot the way to do it accuse some innocent and forswear myself set deadly enmity between two friends make poor mens cattle break their necks set fire on barns and haystacks in the night and bid the owners quench them with their tears oft have i diggd up dead men from their graves and set them upright at their dear friends doors even when their sorrows almost were forgot and on their skins as on the bark of trees have with my knife carved in roman letters let not your sorrow die though i am dead tut i have done a thousand dreadful things as willingly as one would kill a fly and nothing grieves me heartily indeed but that i cannot do ten thousand more if there be devils would i were a devil to live and burn in everlasting fire so i might have your company in hell but to torment you with my bitter tongue some devil whisper curses in mine ear and prompt me that my tongue may utter forth the venomous malice of my swelling heart o why should wrath be mute and fury dumb i am no baby i that with base prayers i should repent the evils i have done ten thousand worse than ever yet i did would i perform if i might have my will if one good deed in all my life i did i do repent it from my very soul '),\n",
              " ('abergavenny',\n",
              "  'i cannot tell what heaven hath given himlet some graver eye pierce into that but i can see his pride peep through each part of him whence has he that if not from hell the devil is a niggard or has given all before and he begins a new hell in himself i do know kinsmen of mine three at the least that have by this so sickened their estates that never they shall abound as formerly is it therefore the ambassador is silenced a proper title of a peace and purchased at a superfluous rate as the duke said the will of heaven be done and the kings pleasure by me obeyd '),\n",
              " ('abraham',\n",
              "  'do you bite your thumb at us sir do you bite your thumb at us sir quarrel sir no sir no better you lie ')]"
            ]
          },
          "metadata": {
            "tags": []
          },
          "execution_count": 16
        }
      ]
    },
    {
      "cell_type": "code",
      "metadata": {
        "id": "z14bZUNgsGax",
        "outputId": "edb26b12-8f09-4a22-e6fd-66929f3be890",
        "colab": {
          "base_uri": "https://localhost:8080/"
        }
      },
      "source": [
        "# Now that the data has been reduced, let's put it back into a DF\n",
        "from pyspark.sql.types import ArrayType, StructField, StructType, StringType, IntegerType\n",
        "\n",
        "# Create a schema for the dataframe\n",
        "schema = StructType([\n",
        "    StructField('character', StringType(), True),\n",
        "    StructField('all_quotes', StringType(), True)])\n",
        "\n",
        "# Convert the RDD to a DF\n",
        "quotes_by_char_df = spark.createDataFrame(new_rdd,schema)\n",
        "\n",
        "#Inspect the work.  We should see that the DF has been reduced by 13 rows since we reduced 26 duplicates\n",
        "quotes_by_char_df.printSchema()\n",
        "quotes_by_char_df.show(10)\n",
        "\n",
        "print(\"After conducting MapReduce of chars, we now have a DF with\",quotes_by_char_df.count(), \"observations rather than 966 with duplicates. Success!\")"
      ],
      "execution_count": 17,
      "outputs": [
        {
          "output_type": "stream",
          "text": [
            "root\n",
            " |-- character: string (nullable = true)\n",
            " |-- all_quotes: string (nullable = true)\n",
            "\n",
            "+-----------+--------------------+\n",
            "|  character|          all_quotes|\n",
            "+-----------+--------------------+\n",
            "|     a lord|       sir it was i |\n",
            "|   a player|so please your lo...|\n",
            "|      aaron|now climbeth tamo...|\n",
            "|abergavenny|i cannot tell wha...|\n",
            "|    abraham|do you bite your ...|\n",
            "|   achilles|why how now ajax ...|\n",
            "|       adam|yonder comes my m...|\n",
            "| alcibiades|sir you have save...|\n",
            "|     alexas|soothsayer show h...|\n",
            "|     alonso|good boatswain ha...|\n",
            "+-----------+--------------------+\n",
            "only showing top 10 rows\n",
            "\n",
            "After conducting MapReduce of chars, we now have a DF with 953 observations rather than 966 with duplicates. Success!\n"
          ],
          "name": "stdout"
        }
      ]
    },
    {
      "cell_type": "code",
      "metadata": {
        "id": "Pip2uA8csGa2"
      },
      "source": [
        "# Create a preprocessing Pipeline\n",
        "\n",
        "# Establish the tokenizor\n",
        "tkn = feature.Tokenizer().setInputCol(\"all_quotes\").setOutputCol(\"all_quotes_Out\")\n",
        "\n",
        "# Prepare a stopwords filter\n",
        "import requests\n",
        "stop_words = requests.get('http://ir.dcs.gla.ac.uk/resources/linguistic_utils/stop_words').text.split()\n",
        "sw_filter = StopWordsRemover()\\\n",
        "  .setStopWords(stop_words)\\\n",
        "  .setCaseSensitive(False)\\\n",
        "  .setInputCol(\"all_quotes_Out\")\\\n",
        "  .setOutputCol(\"filtered\")\n",
        "\n",
        "# Establish the count_vectorizer_estimator requiring the tf to have a word appear at least 1; MinDF is 10 in corpus\n",
        "count_vectorizer_estimator = CountVectorizer(minTF=1., minDF=10.).setInputCol('filtered').setOutputCol('tf') # I orginally modified these but to reduce the time it took to conduct PCA, but I moved them back to 1/10 and it's only taking a little longer than before.\n",
        "\n",
        "# Establish the IDF \n",
        "idf = feature.IDF().\\\n",
        "    setInputCol('tf').\\\n",
        "    setOutputCol('tfidf')\n",
        "\n",
        "# Build a scaler to center the data - no need to standardize since they are in the same units\n",
        "center = feature.StandardScaler(withMean=True, withStd=False, inputCol='tfidf', outputCol='centered_tfidf')\n",
        "\n",
        "# Create a pipeline estimator\n",
        "pre_proc_pipe = Pipeline(stages=[tkn, sw_filter, count_vectorizer_estimator, idf, center])\n",
        "\n",
        "# Fit the fit\n",
        "pre_proc_pipe_fit = pre_proc_pipe.fit(quotes_by_char_df)\n",
        "\n",
        "# Transform with the pipe\n",
        "quotes_by_char_preproc_df = pre_proc_pipe_fit.transform(quotes_by_char_df)\n"
      ],
      "execution_count": 18,
      "outputs": []
    },
    {
      "cell_type": "code",
      "metadata": {
        "id": "X3vZgGjnsGa7",
        "outputId": "a9ca099a-83f3-4097-9a5f-a7bfe7058f2e",
        "colab": {
          "base_uri": "https://localhost:8080/"
        }
      },
      "source": [
        "# Determine a viable number for K\n",
        "# Explicitly set the K parameter in the spark PCA object equal to the maximum number of principal components, determined by using the analysis for the number of rows and cols in the data \n",
        "# There are at most min(n - 1; p) principal components where n is the number of rows and p is the number of cols\n",
        "p = len(pre_proc_pipe_fit.stages[-3].vocabulary)\n",
        "n = quotes_by_char_preproc_df.count()\n",
        "\n",
        "print(\"p (number of columns) = \",p)\n",
        "print(\"n (number of rows) = \", n)\n",
        "k = min((n-1),p)\n",
        "print(\"There are at most min(n - 1; p) principlal components, as such, we will set k = \", k)"
      ],
      "execution_count": 19,
      "outputs": [
        {
          "output_type": "stream",
          "text": [
            "p (number of columns) =  4326\n",
            "n (number of rows) =  953\n",
            "There are at most min(n - 1; p) principlal components, as such, we will set k =  952\n"
          ],
          "name": "stdout"
        }
      ]
    },
    {
      "cell_type": "code",
      "metadata": {
        "id": "hvQqjb9_sGbA"
      },
      "source": [
        "# BASED ON MY PARAMETERS, THIS WILL TAKE APX 5 MINS TO EXECUTE\n",
        "\n",
        "# Build a principal component object with the same number of components as k\n",
        "pca = feature.PCA(k=k, inputCol='centered_tfidf', outputCol='scores')\n",
        "\n",
        "# Create a pipeline estimator and fit it to the data\n",
        "pipe_pca_1 = Pipeline(stages=[pre_proc_pipe, pca]).fit(quotes_by_char_df)\n",
        "\n",
        "# Transform\n",
        "chars_pca_df = pipe_pca_1.transform(quotes_by_char_df)"
      ],
      "execution_count": 20,
      "outputs": []
    },
    {
      "cell_type": "code",
      "metadata": {
        "id": "TdcjR8bgsGbI",
        "outputId": "aceecc3c-e1fa-4318-a76d-299849c5d77a",
        "colab": {
          "base_uri": "https://localhost:8080/"
        }
      },
      "source": [
        "# Code to print the number of rows and cols (again)\n",
        "print(\"p (number of columns) = \",p)\n",
        "print(\"n (number of rows) = \", n)"
      ],
      "execution_count": 21,
      "outputs": [
        {
          "output_type": "stream",
          "text": [
            "p (number of columns) =  4326\n",
            "n (number of rows) =  953\n"
          ],
          "name": "stdout"
        }
      ]
    },
    {
      "cell_type": "code",
      "metadata": {
        "id": "_MH8wqiesGbL",
        "outputId": "46d84aef-2512-4385-f571-8d63492effc3",
        "colab": {
          "base_uri": "https://localhost:8080/",
          "height": 293
        }
      },
      "source": [
        "# Review the work\n",
        "display(chars_pca_df.toPandas().head())"
      ],
      "execution_count": 22,
      "outputs": [
        {
          "output_type": "display_data",
          "data": {
            "text/html": [
              "<div>\n",
              "<style scoped>\n",
              "    .dataframe tbody tr th:only-of-type {\n",
              "        vertical-align: middle;\n",
              "    }\n",
              "\n",
              "    .dataframe tbody tr th {\n",
              "        vertical-align: top;\n",
              "    }\n",
              "\n",
              "    .dataframe thead th {\n",
              "        text-align: right;\n",
              "    }\n",
              "</style>\n",
              "<table border=\"1\" class=\"dataframe\">\n",
              "  <thead>\n",
              "    <tr style=\"text-align: right;\">\n",
              "      <th></th>\n",
              "      <th>character</th>\n",
              "      <th>all_quotes</th>\n",
              "      <th>all_quotes_Out</th>\n",
              "      <th>filtered</th>\n",
              "      <th>tf</th>\n",
              "      <th>tfidf</th>\n",
              "      <th>centered_tfidf</th>\n",
              "      <th>scores</th>\n",
              "    </tr>\n",
              "  </thead>\n",
              "  <tbody>\n",
              "    <tr>\n",
              "      <th>0</th>\n",
              "      <td>a lord</td>\n",
              "      <td>sir it was i</td>\n",
              "      <td>[sir, it, was, i]</td>\n",
              "      <td>[sir]</td>\n",
              "      <td>(0.0, 0.0, 0.0, 0.0, 0.0, 0.0, 1.0, 0.0, 0.0, ...</td>\n",
              "      <td>(0.0, 0.0, 0.0, 0.0, 0.0, 0.0, 0.7693537893705...</td>\n",
              "      <td>[-3.842138431949547, -2.962779020975928, -1.93...</td>\n",
              "      <td>[15.936544209968046, -1.1217654448409846, 0.41...</td>\n",
              "    </tr>\n",
              "    <tr>\n",
              "      <th>1</th>\n",
              "      <td>a player</td>\n",
              "      <td>so please your lordship to accept our duty i t...</td>\n",
              "      <td>[so, please, your, lordship, to, accept, our, ...</td>\n",
              "      <td>[lordship, accept, duty, think, twas, soto, ho...</td>\n",
              "      <td>(0.0, 0.0, 0.0, 0.0, 0.0, 1.0, 0.0, 0.0, 0.0, ...</td>\n",
              "      <td>(0.0, 0.0, 0.0, 0.0, 0.0, 0.6806470177957138, ...</td>\n",
              "      <td>[-3.842138431949547, -2.962779020975928, -1.93...</td>\n",
              "      <td>[15.511968592933254, -1.2967195029204115, 0.53...</td>\n",
              "    </tr>\n",
              "    <tr>\n",
              "      <th>2</th>\n",
              "      <td>aaron</td>\n",
              "      <td>now climbeth tamora olympus top safe out of fo...</td>\n",
              "      <td>[now, climbeth, tamora, olympus, top, safe, ou...</td>\n",
              "      <td>[climbeth, tamora, olympus, safe, fortunes, sh...</td>\n",
              "      <td>(16.0, 18.0, 13.0, 12.0, 5.0, 4.0, 1.0, 3.0, 8...</td>\n",
              "      <td>(11.5324659075525, 13.848368208670589, 6.90225...</td>\n",
              "      <td>[7.6903274756029525, 10.885589187694661, 4.970...</td>\n",
              "      <td>[-37.29236393307519, -2.3087899503708385, 6.30...</td>\n",
              "    </tr>\n",
              "    <tr>\n",
              "      <th>3</th>\n",
              "      <td>abergavenny</td>\n",
              "      <td>i cannot tell what heaven hath given himlet so...</td>\n",
              "      <td>[i, cannot, tell, what, heaven, hath, given, h...</td>\n",
              "      <td>[tell, heaven, hath, given, himlet, graver, ey...</td>\n",
              "      <td>(0.0, 0.0, 1.0, 0.0, 0.0, 0.0, 0.0, 0.0, 0.0, ...</td>\n",
              "      <td>(0.0, 0.0, 0.5309427659255902, 0.0, 0.0, 0.0, ...</td>\n",
              "      <td>[-3.842138431949547, -2.962779020975928, -1.40...</td>\n",
              "      <td>[14.597938253879793, -1.5736010403012253, 0.40...</td>\n",
              "    </tr>\n",
              "    <tr>\n",
              "      <th>4</th>\n",
              "      <td>abraham</td>\n",
              "      <td>do you bite your thumb at us sir do you bite y...</td>\n",
              "      <td>[do, you, bite, your, thumb, at, us, sir, do, ...</td>\n",
              "      <td>[bite, thumb, sir, bite, thumb, sir, quarrel, ...</td>\n",
              "      <td>(0.0, 0.0, 0.0, 0.0, 0.0, 0.0, 4.0, 0.0, 0.0, ...</td>\n",
              "      <td>(0.0, 0.0, 0.0, 0.0, 0.0, 0.0, 3.0774151574823...</td>\n",
              "      <td>[-3.842138431949547, -2.962779020975928, -1.93...</td>\n",
              "      <td>[15.572113453776291, -0.7393535947616098, 0.14...</td>\n",
              "    </tr>\n",
              "  </tbody>\n",
              "</table>\n",
              "</div>"
            ],
            "text/plain": [
              "     character  ...                                             scores\n",
              "0       a lord  ...  [15.936544209968046, -1.1217654448409846, 0.41...\n",
              "1     a player  ...  [15.511968592933254, -1.2967195029204115, 0.53...\n",
              "2        aaron  ...  [-37.29236393307519, -2.3087899503708385, 6.30...\n",
              "3  abergavenny  ...  [14.597938253879793, -1.5736010403012253, 0.40...\n",
              "4      abraham  ...  [15.572113453776291, -0.7393535947616098, 0.14...\n",
              "\n",
              "[5 rows x 8 columns]"
            ]
          },
          "metadata": {
            "tags": []
          }
        }
      ]
    },
    {
      "cell_type": "markdown",
      "metadata": {
        "id": "W7wxGcIXsGbQ"
      },
      "source": [
        "## Analyze the PCA data and create scree and cumulative variance explained plots.  "
      ]
    },
    {
      "cell_type": "code",
      "metadata": {
        "id": "20ZCRq4rsGbS"
      },
      "source": [
        "# Access the loadings\n",
        "loadings = pipe_pca_1.stages[-1].pc.toArray()"
      ],
      "execution_count": 23,
      "outputs": []
    },
    {
      "cell_type": "code",
      "metadata": {
        "id": "lhrzFX7SsGbW",
        "outputId": "c1a0437a-5291-46e1-f406-0c03528c1528",
        "colab": {
          "base_uri": "https://localhost:8080/"
        }
      },
      "source": [
        "print(\"loadings.shape\", loadings.shape)\n",
        "# This data was standarized so these are correlations\n",
        "# print the first column of the loading matrix - the first principal component\n",
        "print(loadings[:,0])"
      ],
      "execution_count": 24,
      "outputs": [
        {
          "output_type": "stream",
          "text": [
            "loadings.shape (4326, 952)\n",
            "[-0.28542251 -0.20612313 -0.11463595 ... -0.00371735 -0.00075881\n",
            " -0.0014886 ]\n"
          ],
          "name": "stdout"
        }
      ]
    },
    {
      "cell_type": "code",
      "metadata": {
        "id": "Xar-kwZbsGbY",
        "outputId": "a6926d2d-0d88-4c26-d585-d5c668e4a820",
        "colab": {
          "base_uri": "https://localhost:8080/"
        }
      },
      "source": [
        "# Let's get a look at the varianced explained \n",
        "explained_var = pipe_pca_1.stages[-1].explainedVariance\n",
        "print(explained_var)"
      ],
      "execution_count": 25,
      "outputs": [
        {
          "output_type": "stream",
          "text": [
            "[0.14783353854784573,0.03302901833910349,0.02494481772721657,0.023090885000579757,0.019215979375176523,0.01692768821307885,0.015619746689542672,0.014443516762644146,0.013927894594978755,0.01338601603948599,0.012125655434716616,0.011569159825890022,0.010883610511723995,0.010204017035753863,0.009557680412659577,0.00881984924300484,0.00859429775191477,0.008158968624166424,0.007960716648171738,0.00776843956058062,0.007521181615241771,0.0073111529139405895,0.007117942287374747,0.006989239294265852,0.0067978340823595,0.006439333957901705,0.006329368872503246,0.0060342708888147314,0.005926900503374367,0.00588900945785139,0.005730605542805929,0.005611380332026145,0.0054153427845154015,0.005366773853969148,0.00532974907525629,0.005125046643038944,0.0050380191376819695,0.004993083614994444,0.004787052179481457,0.004711458831801441,0.004654540364228934,0.004592535274658408,0.004495593079254739,0.004431552691794707,0.004314946827043898,0.004293931246201099,0.004187007401449554,0.004143954830144316,0.0040201856718597995,0.004006883220522235,0.003953709096297534,0.0038721817313714076,0.003810073959402374,0.0037909539622506686,0.0037143019251842154,0.003619511385093855,0.0035731866230443755,0.003514467997132456,0.0033858456841271475,0.003334963884447177,0.0032785043955569546,0.003208550499552355,0.0031542275781307905,0.0031193041501886266,0.0030752650089621654,0.00302158848815326,0.0029995837648469125,0.002972643320980903,0.0028873181888303297,0.002886563134146123,0.0028239278797759573,0.0028079675139063742,0.002754428125702408,0.002732319059897957,0.0026954413916390235,0.0026876503078600727,0.0026692380987374297,0.00263387095667336,0.0025835296089652742,0.002575639479428474,0.002522547331301583,0.0024725700183980425,0.0024283067306985185,0.0024205091431221087,0.0023929730799461717,0.0023683975131009198,0.002330916686818407,0.002312343922110328,0.00227297216486232,0.0022613674286433853,0.002242221894080154,0.002222417104742283,0.0021941017980797966,0.0021648078883163284,0.002141859836494746,0.0021223646132726382,0.0021140896790580337,0.002108802234199176,0.0020791626925636087,0.0020539364619150792,0.0020457937835672586,0.0020213122280373693,0.0019920389400718054,0.001967388311127503,0.0019513136081597453,0.0019290681473954849,0.001921071032942536,0.0019043468360457555,0.0018904726493989767,0.0018806225077611324,0.0018694826214945117,0.0018523966593930812,0.001837967772413624,0.0018274541714357682,0.001812255357220059,0.0017828072454227975,0.0017723368875683374,0.0017474372302156017,0.0017378144888850467,0.0017220246218100233,0.0017096983929253665,0.00170007479614493,0.0016948963905650547,0.0016810563695176888,0.0016733457980320993,0.0016491424894664389,0.0016378027381434644,0.0016334615565964635,0.0016260872497230838,0.0015916335232855497,0.0015878976713212271,0.0015826661230760584,0.001580243151945315,0.0015630976796297724,0.0015567181360409096,0.0015389625583162475,0.0015242998169315972,0.0015214574744571306,0.0015039334661054978,0.0014963212018478445,0.001487734384337795,0.0014706403889182143,0.0014631963167380576,0.0014520468386127615,0.001444463113487085,0.0014324042685115303,0.0014211297270962265,0.001399022657756708,0.0013946517922185603,0.0013886113394190624,0.001377979042898486,0.0013712799892330613,0.001363072782588102,0.001351327496083981,0.001345696744962841,0.0013428301457138817,0.0013315910748024622,0.0013229875472718546,0.0013135672907019207,0.0013079540360229971,0.0012925434294222059,0.0012864456249033244,0.0012818320007184512,0.0012698681901721967,0.0012655415662268857,0.0012498358102464417,0.0012468373720422345,0.0012368256385794723,0.0012330806723721724,0.0012172210392039163,0.0012050060603496506,0.001199064540262544,0.0011942064090449346,0.0011854444820908303,0.0011727855430247866,0.0011720651513233062,0.0011601996151527872,0.0011501195620610975,0.0011432739201698375,0.0011321531550004464,0.0011269438400330575,0.0011211837519040488,0.0011157933302618633,0.0011050959691103618,0.0011013434905320137,0.0010929471573805586,0.0010869424231789448,0.001084546056376088,0.001070811420067441,0.0010643507726261446,0.0010584342521022267,0.001048319166988398,0.0010360715190383682,0.00103235212626315,0.0010285262648819053,0.0010113101195986802,0.0010031053231093832,0.0009981285023943983,0.0009934465957024015,0.0009878897009630075,0.000986465497546891,0.0009770964584646159,0.0009671603765519344,0.0009619095432333055,0.0009569894270132794,0.0009494112060816529,0.0009414696636736103,0.0009353973590101666,0.0009294754215401352,0.0009238428779470749,0.0009191803904177837,0.0009072487400493324,0.0008996184728090295,0.000897283174203616,0.0008956528968507539,0.0008935506200989155,0.0008772053923110944,0.00087296853338126,0.0008690030306269413,0.0008643908163489849,0.0008542047384402062,0.0008477343581084008,0.0008433271684684881,0.0008411747435660169,0.0008383346377441134,0.000825118993479281,0.0008228960781392977,0.0008107414776366086,0.0008058835773487564,0.0008036404626228971,0.000797278541046134,0.0007931760831073257,0.0007875858818273083,0.0007803974444009516,0.0007728386321821421,0.0007703459021094801,0.0007622516723363649,0.0007599790184469025,0.0007580135027934083,0.0007484619941430109,0.0007437834686233875,0.000741188352346146,0.0007364387217926795,0.0007330095156624378,0.0007291076555547895,0.000724394287067075,0.0007193504545518674,0.0007124497223945065,0.0007031200677068637,0.0006985596034585518,0.0006942953549676155,0.0006873739517479523,0.0006822721234317537,0.0006801593871532202,0.0006699217802750697,0.0006655022859370531,0.0006615235996573892,0.0006586844573655349,0.0006562643461323608,0.0006484014078361629,0.0006412898268706909,0.0006368885918217845,0.0006347112672900445,0.0006319356096881935,0.0006247140566826518,0.000613454854510281,0.0006125345418892607,0.0006102239487580536,0.0006062875460198157,0.00060155133854735,0.0005972649081457305,0.0005917092545495095,0.0005896815347951101,0.0005837858179631158,0.0005790144551127886,0.0005756863407844149,0.0005731539513088584,0.0005656449147067406,0.0005617185880579325,0.0005573129280137851,0.0005533186631022324,0.000551491857146196,0.0005426274530709165,0.0005417325649013659,0.000538358141339371,0.0005353663222061328,0.0005278374243137731,0.0005267713180646638,0.0005227947471074996,0.0005202316469367493,0.0005166278654581685,0.0005135881818339478,0.0005111568910063807,0.0005063237820030643,0.0005029065944973288,0.0004997848184429898,0.0004984939662031929,0.000493262733165763,0.0004914497080438718,0.0004898307228202454,0.0004804035691530625,0.00047571295591429356,0.0004718799754665764,0.00047095007536674364,0.0004673503092187809,0.00046381530790705783,0.00046242222031642996,0.00045761062334152044,0.0004541065818457636,0.0004514901670364434,0.0004482387732593703,0.00044608406121796686,0.0004403786007246705,0.0004380496542722505,0.00043636228934801645,0.00043003578990284544,0.00042684780156367877,0.0004227575946705354,0.0004223307875229441,0.0004212130801191927,0.00041753392285896664,0.00041434061487856063,0.00041083786832511634,0.0004067635663532891,0.00039929781444457326,0.0003983000487412325,0.0003971651630057133,0.00039559401397079016,0.00039000300248197755,0.00038235692062473317,0.00038098505438616866,0.0003791470147641893,0.000374269317988739,0.00037174263012472464,0.0003693238132584512,0.0003681875781936827,0.0003665053391523682,0.00036214106554710774,0.0003590789808614328,0.00035558450659060523,0.00035290666733848373,0.00035014479275364435,0.0003454412655722953,0.0003452012257909811,0.0003432181399588686,0.00034080604339263294,0.00033884230240712533,0.0003368944248859382,0.0003348553673507612,0.00032729519371570495,0.00032665403005747496,0.00032345624682484167,0.0003215346660068771,0.0003194125757093866,0.00031841609471088206,0.00031587788388663744,0.00031490564535834536,0.00031213525525931304,0.0003091305531270256,0.0003084998575044034,0.00030534858789709016,0.00030266845412444093,0.0003020411081204672,0.0003007271849095457,0.00029562475242470753,0.0002949574201204946,0.0002934338641172042,0.0002897047084203557,0.00028853133114206155,0.0002856598312564791,0.00028377116757989434,0.00028167444527002196,0.0002806722044325025,0.0002796159444926029,0.00027708601466160327,0.0002761198862390708,0.0002741294745292479,0.0002722574286364179,0.000270294740303952,0.00026797832152144753,0.00026680194114396614,0.0002653447604051071,0.0002615184394608295,0.00025995360222424285,0.00025953285464300256,0.00025856637768643573,0.00025771589323448144,0.00025752904706174436,0.0002562781510490318,0.0002513408265637653,0.000250249070105546,0.00024834822562804117,0.0002444765945636011,0.0002435590177175311,0.0002431980911751763,0.00024126549692059888,0.00024010752781830332,0.00023868473951264946,0.00023625445213030252,0.000235347982846419,0.00023474110734610703,0.0002319172325536347,0.000230643901442565,0.00023016270358553384,0.00022741656619340914,0.00022635159071283869,0.0002245166805836611,0.00022255344495623156,0.00022053502222664923,0.00021943886224409998,0.0002188845896071897,0.00021523623807172525,0.00021429200066685073,0.00021323924436545145,0.000211669086267993,0.00021075076583372535,0.0002096173537726019,0.00020780067401542933,0.00020687317540225175,0.000205952157384593,0.00020488055210372402,0.00020215146270288823,0.00020062024782293124,0.00019984983812199565,0.00019849092725944176,0.00019669691549248366,0.00019608689394758395,0.00019553491424566946,0.0001928490440356738,0.00019094412183564964,0.00019019922039005993,0.00018946847775669047,0.00018909044521478628,0.00018704576155168922,0.00018525728801869774,0.00018372230539984667,0.00018309546739063917,0.00018167871038512155,0.0001805975159112676,0.0001788753602444298,0.00017876092071570594,0.0001773685813811645,0.00017638567665514038,0.00017509966442585506,0.00017369169002086072,0.0001731754186092136,0.00017166428717254245,0.00017103800235689128,0.00017017802310479276,0.00016963221972959383,0.00016772274735368534,0.00016645090475678334,0.00016549993786629084,0.0001643922273209589,0.00016397899846772778,0.0001622103301873369,0.00016199042216058382,0.00016093459727404072,0.00015989845300659036,0.0001583297172587009,0.00015807518073090608,0.00015636198789153855,0.0001552332664765476,0.00015460202674319628,0.0001536442800261063,0.0001527350594946878,0.0001526557235117078,0.00015167007905814666,0.00015013617947227828,0.00014908446341966555,0.00014840071812048373,0.00014729144351228237,0.00014668175140480016,0.00014583859326374105,0.0001452662791857416,0.00014398198949369927,0.00014288771587439973,0.00014222456927682117,0.0001410621913833459,0.0001400113091049891,0.0001398153120468702,0.00013855185176574308,0.000137701612284507,0.00013671000036658636,0.00013563344822117106,0.00013427909514673837,0.00013376584867836108,0.00013369780792433147,0.0001327202180795846,0.0001322810191643007,0.00013075010913578768,0.0001291492310661377,0.00012813755231946234,0.0001277484471790738,0.00012680972143572458,0.00012565649372000436,0.0001251275239508536,0.0001248664288870406,0.00012413746945265743,0.00012301768341612903,0.00012251346834791932,0.00012153076874772937,0.00012113497238279495,0.00012095288322850078,0.00011948826558598259,0.00011922476843814082,0.00011826169306439855,0.00011758330096366851,0.00011718920025651606,0.00011695471590669366,0.00011605553073160299,0.0001151134376420666,0.00011421750303777908,0.00011347231704417141,0.00011278392298826714,0.00011173542945243473,0.00011121157060729705,0.0001108158700437924,0.00011010632885282235,0.00010914373178051351,0.00010849153852054237,0.00010832959594874102,0.00010785749282296406,0.00010657190942582546,0.0001053046956814536,0.00010479578362754851,0.00010421911055369519,0.00010269918602778832,0.00010233299306153748,0.00010225593091313346,0.00010176711890112619,0.00010118320959933037,0.0001000226633968931,9.97136624755618e-05,9.887278801261852e-05,9.839343850908155e-05,9.816111978812153e-05,9.687385205085405e-05,9.638465586633363e-05,9.553298972169907e-05,9.517424882946266e-05,9.484793728641157e-05,9.430093934617604e-05,9.402877255127804e-05,9.297557846688192e-05,9.28326060389855e-05,9.265685659931023e-05,9.195064431671264e-05,9.074372061884926e-05,9.061488190627424e-05,8.943098094813105e-05,8.863923667948922e-05,8.848410822314647e-05,8.785319821927551e-05,8.712286674199912e-05,8.665378025008363e-05,8.611073415896873e-05,8.58332755866994e-05,8.497078455928572e-05,8.453580020829099e-05,8.414709476908694e-05,8.334362409654637e-05,8.288628351933695e-05,8.251910613184924e-05,8.179758796838516e-05,8.132970683401515e-05,8.11303594777004e-05,7.996655312689582e-05,7.949445800968601e-05,7.920386820137979e-05,7.87674100350527e-05,7.860443665678909e-05,7.828477210167143e-05,7.705268892415861e-05,7.661023154517645e-05,7.619523549742179e-05,7.575712039616693e-05,7.51068712506188e-05,7.496720874593383e-05,7.475895997126645e-05,7.381703035323962e-05,7.262621583523339e-05,7.240477301549056e-05,7.174555804299366e-05,7.150750767901487e-05,7.112206074611804e-05,7.088529978322964e-05,7.03034157311647e-05,6.978454139800525e-05,6.960172570572178e-05,6.830772552414023e-05,6.800186718209312e-05,6.722946333308158e-05,6.685395983241703e-05,6.664672183161365e-05,6.612028375597291e-05,6.567368492480004e-05,6.551782495809656e-05,6.52581341134009e-05,6.454110949342086e-05,6.395897714342805e-05,6.355053208680306e-05,6.32192777068023e-05,6.271163003254682e-05,6.161623346286231e-05,6.105376047161148e-05,6.058067893019047e-05,6.0271499628107536e-05,6.007017777494565e-05,5.924046910713952e-05,5.902558716106459e-05,5.884774031269582e-05,5.809661314193631e-05,5.779142602221962e-05,5.741434429249195e-05,5.698043422977316e-05,5.658446375799603e-05,5.646875702611845e-05,5.6244842348193136e-05,5.5408128117750365e-05,5.5125264696272366e-05,5.4565956529365775e-05,5.4143370973264375e-05,5.364868503614712e-05,5.355242574184491e-05,5.276066867503992e-05,5.224109963160804e-05,5.207404301617357e-05,5.155452363918482e-05,5.116401336955157e-05,5.1014751552906195e-05,5.0493430383134925e-05,5.0387154926100015e-05,4.98641422104638e-05,4.933196890877523e-05,4.923522161494273e-05,4.869437039988969e-05,4.844169693505424e-05,4.805089869791389e-05,4.774029319465887e-05,4.715547267179596e-05,4.707424320585295e-05,4.668159199001118e-05,4.63030754541514e-05,4.606684527614084e-05,4.57328859438991e-05,4.542616413017784e-05,4.497664574516058e-05,4.4885735851311336e-05,4.450665187721295e-05,4.382400542038891e-05,4.3717848825534846e-05,4.355401634672942e-05,4.331380999088385e-05,4.3032276392736264e-05,4.2711981190793394e-05,4.262040581930491e-05,4.228318770638285e-05,4.1809630248006675e-05,4.115725085140497e-05,4.082458731698346e-05,4.06188329180357e-05,4.0434305325760225e-05,3.994485971033188e-05,3.944112430755363e-05,3.9192715841741e-05,3.897910352709751e-05,3.86963570922516e-05,3.85132436215672e-05,3.838586956270655e-05,3.812234858745829e-05,3.779886031008506e-05,3.747069006688828e-05,3.732169347665112e-05,3.69627031520955e-05,3.668568074954865e-05,3.6350565572406036e-05,3.6256912121910824e-05,3.570628089346802e-05,3.5402090159769235e-05,3.5236935706336245e-05,3.463561328287158e-05,3.451636404298045e-05,3.4395034352111696e-05,3.371736684794859e-05,3.349454273105185e-05,3.3439752284824546e-05,3.303322241763773e-05,3.2937792433601824e-05,3.276403557524096e-05,3.2517962839128326e-05,3.248955792008712e-05,3.211887131508421e-05,3.19579512118555e-05,3.1709670181132294e-05,3.133837267287435e-05,3.0793936319167797e-05,3.069770019109309e-05,3.0426615248398482e-05,3.0327413870906448e-05,3.006731108105352e-05,2.9622001962998366e-05,2.9555617621790703e-05,2.9162659667753527e-05,2.8829592520714352e-05,2.8635249576975402e-05,2.8591657503519964e-05,2.8406942868841348e-05,2.8068455526176044e-05,2.7569458446981088e-05,2.7328114829996596e-05,2.7199149380876008e-05,2.6830420469219554e-05,2.663782012892502e-05,2.641557145359959e-05,2.6276996342131978e-05,2.598404366210086e-05,2.5937316249040338e-05,2.5512866308760997e-05,2.5338482324803863e-05,2.514628986234445e-05,2.4818875062627565e-05,2.479588463223592e-05,2.4616395998522957e-05,2.4225813943430975e-05,2.3967855481432773e-05,2.38631722857367e-05,2.3757256528617802e-05,2.358650083021389e-05,2.3396836293488545e-05,2.3234817138895036e-05,2.2976723974662753e-05,2.279145548619643e-05,2.2729806546572133e-05,2.2566290814699166e-05,2.2398406904302456e-05,2.2252159212525738e-05,2.1993518735144145e-05,2.1767843551289584e-05,2.1582415397273305e-05,2.1377246883316005e-05,2.12392861627262e-05,2.096795872099104e-05,2.0824471309382054e-05,2.0416905833557983e-05,2.0200344703229657e-05,1.9956988843525136e-05,1.9891288509022167e-05,1.982392494102899e-05,1.94535705654727e-05,1.933821143408368e-05,1.9069192760638024e-05,1.893304169602903e-05,1.8672004331259394e-05,1.840837355647299e-05,1.830810517931436e-05,1.8069641806218152e-05,1.781507353352414e-05,1.76861898837833e-05,1.7557461118559086e-05,1.7080209467551373e-05,1.6845451172377143e-05,1.6762074428582187e-05,1.66956058475477e-05,1.6478599751372552e-05,1.600214590660535e-05,1.5971407732747417e-05,1.559669286951898e-05,1.552659742053838e-05,1.5148309503098604e-05,1.513581052884614e-05,1.5020061916606811e-05,1.4904866874769784e-05,1.4822794219755446e-05,1.4683785794180721e-05,1.4571444939284177e-05,1.4337779543009459e-05,1.418454841957651e-05,1.400763690023631e-05,1.3949306290055547e-05,1.3832911416626397e-05,1.3745034338342003e-05,1.364254874616584e-05,1.3482874824375532e-05,1.3354667595112932e-05,1.3083389917297633e-05,1.3024995842984045e-05,1.2836692990762782e-05,1.2815864342570524e-05,1.2728199915668449e-05,1.2545707795804547e-05,1.2441857488323167e-05,1.241188410090113e-05,1.2286842071897262e-05,1.1929713652472389e-05,1.1764655398779249e-05,1.155320596373081e-05,1.1437834272791723e-05,1.1210188142951955e-05,1.1050639298722519e-05,1.1001535948568696e-05,1.0901877456334159e-05,1.0659083964227456e-05,1.048086540520245e-05,1.0427079853818923e-05,1.0372957605864662e-05,1.0262482288824475e-05,1.0150240249225512e-05,1.0017189193442089e-05,9.857359474967897e-06,9.776646966745614e-06,9.699468513887567e-06,9.56147406882135e-06,9.482087801403035e-06,9.398274027419276e-06,9.256061651634214e-06,9.119262194803116e-06,9.098413023356406e-06,8.904026473970434e-06,8.811619457549652e-06,8.703923144583636e-06,8.638039381062975e-06,8.481584564813887e-06,8.43075129027642e-06,8.2136091473743e-06,8.162033526238854e-06,8.135464616108573e-06,8.04660006456068e-06,7.929748116232378e-06,7.878001676288135e-06,7.81332603570667e-06,7.746448791352324e-06,7.648485498397636e-06,7.594308046186332e-06,7.545194690919102e-06,7.415889784419599e-06,7.317560782421388e-06,7.2145076552742875e-06,7.1690532380836094e-06,7.068213078641903e-06,6.963346907717092e-06,6.891186131827773e-06,6.8673300694613695e-06,6.748569931840151e-06,6.609827249945284e-06,6.531143242194726e-06,6.4845671120095e-06,6.46712341165373e-06,6.3046674654121976e-06,6.2005978276941946e-06,6.032196696661127e-06,5.92912322775144e-06,5.8916311135998714e-06,5.819392943839092e-06,5.666166285338551e-06,5.6372127201656165e-06,5.486657937643454e-06,5.473518374935372e-06,5.286547847927418e-06,5.250667167093073e-06,5.202481705491144e-06,5.048909080188375e-06,4.942669305417457e-06,4.903730323248022e-06,4.7908570479594765e-06,4.7556509340167324e-06,4.637683970729962e-06,4.5698481986069436e-06,4.541829959839797e-06,4.398898131273413e-06,4.377040969421515e-06,4.268979843253461e-06,4.2333355134563925e-06,4.159455629582581e-06,4.105957454440948e-06,4.035272114989154e-06,3.93557578936117e-06,3.827886077965803e-06,3.763977230136602e-06,3.7153168838370843e-06,3.6225846064272516e-06,3.6169975784401553e-06,3.4831214621914475e-06,3.214426412050109e-06,3.146847336564285e-06,3.094161904650921e-06,2.9187799711894976e-06,2.833783528646585e-06,2.762046185948541e-06,2.659705221770686e-06,2.5601680828246697e-06,2.5336449823440403e-06,2.3148410293145287e-06,2.2695001993893552e-06,2.2313455274259553e-06,2.2173672682978875e-06,2.1871145688709554e-06,2.094525351998209e-06,2.0616119844743225e-06,2.0322339067866066e-06,1.9230364933618535e-06,1.8747159979058388e-06,1.790537818558638e-06,1.7082964246963896e-06,1.6455798012682486e-06,1.5314542569401644e-06,1.5001698369895258e-06,1.3934686122581006e-06,1.3728999066057631e-06,1.3380871504349331e-06,1.3089462231463062e-06,1.2533423758018757e-06,1.1532956251609432e-06,1.1246004757114858e-06,1.099662880836584e-06,9.945853915650464e-07,8.887647095486837e-07,8.17921321709212e-07,7.745285721297463e-07,7.457016665214389e-07,7.315098288047398e-07,6.888550080978088e-07,6.422099289672549e-07,6.197848222539856e-07,6.070769212572823e-07,5.444048999811508e-07,4.874110472057625e-07,3.891394293088378e-07,3.165305142965847e-07,3.0700124621259956e-07,2.5620871350737663e-07,2.0433719717885766e-07,1.923694504354346e-07,1.873895097326701e-07,1.761124466017673e-07,1.6018082163966645e-07,1.2639410218885837e-07,1.1506481071862014e-07,8.073418380381902e-08,6.525078778598022e-08,3.785064446961952e-08,2.8296185507147766e-08,1.1573381531853615e-08,2.5956215479491823e-16,1.1031018297699568e-16,9.685012291345879e-17,9.267561616664691e-17,8.038579040094276e-17,6.769737988633405e-17,6.525787219889752e-17,6.116221654651741e-17,6.018571721773719e-17]\n"
          ],
          "name": "stdout"
        }
      ]
    },
    {
      "cell_type": "code",
      "metadata": {
        "id": "HSi9tgX3sGbc",
        "outputId": "e6f5c1a4-cb6d-4f66-9155-5aa1978e9474",
        "colab": {
          "base_uri": "https://localhost:8080/"
        }
      },
      "source": [
        "# And let's confirm it adds to 1\n",
        "sum(pipe_pca_1.stages[-1].explainedVariance)"
      ],
      "execution_count": 26,
      "outputs": [
        {
          "output_type": "execute_result",
          "data": {
            "text/plain": [
              "0.9999999999999996"
            ]
          },
          "metadata": {
            "tags": []
          },
          "execution_count": 26
        }
      ]
    },
    {
      "cell_type": "code",
      "metadata": {
        "id": "zYZnM_pPsGbf",
        "outputId": "56c8dedb-de82-44e1-da98-4f1e9de4fb3e",
        "colab": {
          "base_uri": "https://localhost:8080/",
          "height": 0
        }
      },
      "source": [
        "# Plot the explained variance using scree plot\n",
        "plt.figure()\n",
        "plt.plot(np.arange(1, len(explained_var)+1), explained_var)\n",
        "plt.title(\"Shakespear PCA DF Scree Plot\")\n",
        "plt.xlabel(\"Principal Component\")\n",
        "plt.ylabel(\"Proportion Variance Explained\")"
      ],
      "execution_count": 27,
      "outputs": [
        {
          "output_type": "execute_result",
          "data": {
            "text/plain": [
              "Text(0, 0.5, 'Proportion Variance Explained')"
            ]
          },
          "metadata": {
            "tags": []
          },
          "execution_count": 27
        },
        {
          "output_type": "display_data",
          "data": {
            "image/png": "[encoded data removed]",
            "text/plain": [
              "<Figure size 432x288 with 1 Axes>"
            ]
          },
          "metadata": {
            "tags": [],
            "needs_background": "light"
          }
        }
      ]
    },
    {
      "cell_type": "code",
      "metadata": {
        "id": "-uy19GO6sGbj",
        "outputId": "ce1165e0-f4e7-4fb3-d226-55c0aed46091",
        "colab": {
          "base_uri": "https://localhost:8080/",
          "height": 0
        }
      },
      "source": [
        "#Plot the explained variance using a culmulative plot\n",
        "cum_sum = np.cumsum(explained_var)\n",
        "plt.figure()\n",
        "plt.plot(np.arange(1, len(explained_var)+1), cum_sum)\n",
        "plt.title(\"Shakespear PCA DF Cumulative Sum of Variance Explained\")\n",
        "plt.xlabel(\"Cumulative Components\")\n",
        "plt.ylabel(\"Cumulative Sum of Variance Explained\")"
      ],
      "execution_count": 28,
      "outputs": [
        {
          "output_type": "execute_result",
          "data": {
            "text/plain": [
              "Text(0, 0.5, 'Cumulative Sum of Variance Explained')"
            ]
          },
          "metadata": {
            "tags": []
          },
          "execution_count": 28
        },
        {
          "output_type": "display_data",
          "data": {
            "image/png": "[encoded data removed]",
            "text/plain": [
              "<Figure size 432x288 with 1 Axes>"
            ]
          },
          "metadata": {
            "tags": [],
            "needs_background": "light"
          }
        }
      ]
    },
    {
      "cell_type": "code",
      "metadata": {
        "id": "MfPPBWpBsGbm",
        "outputId": "53dd15da-04a9-464e-8bc6-4e987a625d19",
        "colab": {
          "base_uri": "https://localhost:8080/"
        }
      },
      "source": [
        "# Let's examine how much varaince is explained by each component\n",
        "explained_var"
      ],
      "execution_count": 29,
      "outputs": [
        {
          "output_type": "execute_result",
          "data": {
            "text/plain": [
              "DenseVector([0.1478, 0.033, 0.0249, 0.0231, 0.0192, 0.0169, 0.0156, 0.0144, 0.0139, 0.0134, 0.0121, 0.0116, 0.0109, 0.0102, 0.0096, 0.0088, 0.0086, 0.0082, 0.008, 0.0078, 0.0075, 0.0073, 0.0071, 0.007, 0.0068, 0.0064, 0.0063, 0.006, 0.0059, 0.0059, 0.0057, 0.0056, 0.0054, 0.0054, 0.0053, 0.0051, 0.005, 0.005, 0.0048, 0.0047, 0.0047, 0.0046, 0.0045, 0.0044, 0.0043, 0.0043, 0.0042, 0.0041, 0.004, 0.004, 0.004, 0.0039, 0.0038, 0.0038, 0.0037, 0.0036, 0.0036, 0.0035, 0.0034, 0.0033, 0.0033, 0.0032, 0.0032, 0.0031, 0.0031, 0.003, 0.003, 0.003, 0.0029, 0.0029, 0.0028, 0.0028, 0.0028, 0.0027, 0.0027, 0.0027, 0.0027, 0.0026, 0.0026, 0.0026, 0.0025, 0.0025, 0.0024, 0.0024, 0.0024, 0.0024, 0.0023, 0.0023, 0.0023, 0.0023, 0.0022, 0.0022, 0.0022, 0.0022, 0.0021, 0.0021, 0.0021, 0.0021, 0.0021, 0.0021, 0.002, 0.002, 0.002, 0.002, 0.002, 0.0019, 0.0019, 0.0019, 0.0019, 0.0019, 0.0019, 0.0019, 0.0018, 0.0018, 0.0018, 0.0018, 0.0018, 0.0017, 0.0017, 0.0017, 0.0017, 0.0017, 0.0017, 0.0017, 0.0017, 0.0016, 0.0016, 0.0016, 0.0016, 0.0016, 0.0016, 0.0016, 0.0016, 0.0016, 0.0016, 0.0015, 0.0015, 0.0015, 0.0015, 0.0015, 0.0015, 0.0015, 0.0015, 0.0015, 0.0014, 0.0014, 0.0014, 0.0014, 0.0014, 0.0014, 0.0014, 0.0014, 0.0014, 0.0014, 0.0013, 0.0013, 0.0013, 0.0013, 0.0013, 0.0013, 0.0013, 0.0013, 0.0013, 0.0013, 0.0013, 0.0012, 0.0012, 0.0012, 0.0012, 0.0012, 0.0012, 0.0012, 0.0012, 0.0012, 0.0012, 0.0012, 0.0012, 0.0012, 0.0011, 0.0011, 0.0011, 0.0011, 0.0011, 0.0011, 0.0011, 0.0011, 0.0011, 0.0011, 0.0011, 0.0011, 0.0011, 0.001, 0.001, 0.001, 0.001, 0.001, 0.001, 0.001, 0.001, 0.001, 0.001, 0.001, 0.001, 0.001, 0.001, 0.0009, 0.0009, 0.0009, 0.0009, 0.0009, 0.0009, 0.0009, 0.0009, 0.0009, 0.0009, 0.0009, 0.0009, 0.0009, 0.0009, 0.0009, 0.0009, 0.0008, 0.0008, 0.0008, 0.0008, 0.0008, 0.0008, 0.0008, 0.0008, 0.0008, 0.0008, 0.0008, 0.0008, 0.0008, 0.0008, 0.0008, 0.0008, 0.0008, 0.0008, 0.0007, 0.0007, 0.0007, 0.0007, 0.0007, 0.0007, 0.0007, 0.0007, 0.0007, 0.0007, 0.0007, 0.0007, 0.0007, 0.0007, 0.0007, 0.0007, 0.0007, 0.0007, 0.0007, 0.0007, 0.0006, 0.0006, 0.0006, 0.0006, 0.0006, 0.0006, 0.0006, 0.0006, 0.0006, 0.0006, 0.0006, 0.0006, 0.0006, 0.0006, 0.0006, 0.0006, 0.0006, 0.0006, 0.0006, 0.0006, 0.0006, 0.0006, 0.0006, 0.0005, 0.0005, 0.0005, 0.0005, 0.0005, 0.0005, 0.0005, 0.0005, 0.0005, 0.0005, 0.0005, 0.0005, 0.0005, 0.0005, 0.0005, 0.0005, 0.0005, 0.0005, 0.0005, 0.0005, 0.0005, 0.0005, 0.0005, 0.0005, 0.0005, 0.0005, 0.0005, 0.0005, 0.0004, 0.0004, 0.0004, 0.0004, 0.0004, 0.0004, 0.0004, 0.0004, 0.0004, 0.0004, 0.0004, 0.0004, 0.0004, 0.0004, 0.0004, 0.0004, 0.0004, 0.0004, 0.0004, 0.0004, 0.0004, 0.0004, 0.0004, 0.0004, 0.0004, 0.0004, 0.0004, 0.0004, 0.0004, 0.0004, 0.0004, 0.0004, 0.0003, 0.0003, 0.0003, 0.0003, 0.0003, 0.0003, 0.0003, 0.0003, 0.0003, 0.0003, 0.0003, 0.0003, 0.0003, 0.0003, 0.0003, 0.0003, 0.0003, 0.0003, 0.0003, 0.0003, 0.0003, 0.0003, 0.0003, 0.0003, 0.0003, 0.0003, 0.0003, 0.0003, 0.0003, 0.0003, 0.0003, 0.0003, 0.0003, 0.0003, 0.0003, 0.0003, 0.0003, 0.0003, 0.0003, 0.0003, 0.0003, 0.0003, 0.0003, 0.0003, 0.0003, 0.0003, 0.0003, 0.0003, 0.0003, 0.0002, 0.0002, 0.0002, 0.0002, 0.0002, 0.0002, 0.0002, 0.0002, 0.0002, 0.0002, 0.0002, 0.0002, 0.0002, 0.0002, 0.0002, 0.0002, 0.0002, 0.0002, 0.0002, 0.0002, 0.0002, 0.0002, 0.0002, 0.0002, 0.0002, 0.0002, 0.0002, 0.0002, 0.0002, 0.0002, 0.0002, 0.0002, 0.0002, 0.0002, 0.0002, 0.0002, 0.0002, 0.0002, 0.0002, 0.0002, 0.0002, 0.0002, 0.0002, 0.0002, 0.0002, 0.0002, 0.0002, 0.0002, 0.0002, 0.0002, 0.0002, 0.0002, 0.0002, 0.0002, 0.0002, 0.0002, 0.0002, 0.0002, 0.0002, 0.0002, 0.0002, 0.0002, 0.0002, 0.0002, 0.0002, 0.0002, 0.0002, 0.0002, 0.0002, 0.0002, 0.0002, 0.0002, 0.0002, 0.0002, 0.0002, 0.0002, 0.0002, 0.0002, 0.0001, 0.0001, 0.0001, 0.0001, 0.0001, 0.0001, 0.0001, 0.0001, 0.0001, 0.0001, 0.0001, 0.0001, 0.0001, 0.0001, 0.0001, 0.0001, 0.0001, 0.0001, 0.0001, 0.0001, 0.0001, 0.0001, 0.0001, 0.0001, 0.0001, 0.0001, 0.0001, 0.0001, 0.0001, 0.0001, 0.0001, 0.0001, 0.0001, 0.0001, 0.0001, 0.0001, 0.0001, 0.0001, 0.0001, 0.0001, 0.0001, 0.0001, 0.0001, 0.0001, 0.0001, 0.0001, 0.0001, 0.0001, 0.0001, 0.0001, 0.0001, 0.0001, 0.0001, 0.0001, 0.0001, 0.0001, 0.0001, 0.0001, 0.0001, 0.0001, 0.0001, 0.0001, 0.0001, 0.0001, 0.0001, 0.0001, 0.0001, 0.0001, 0.0001, 0.0001, 0.0001, 0.0001, 0.0001, 0.0001, 0.0001, 0.0001, 0.0001, 0.0001, 0.0001, 0.0001, 0.0001, 0.0001, 0.0001, 0.0001, 0.0001, 0.0001, 0.0001, 0.0001, 0.0001, 0.0001, 0.0001, 0.0001, 0.0001, 0.0001, 0.0001, 0.0001, 0.0001, 0.0001, 0.0001, 0.0001, 0.0001, 0.0001, 0.0001, 0.0001, 0.0001, 0.0001, 0.0001, 0.0001, 0.0001, 0.0001, 0.0001, 0.0001, 0.0001, 0.0001, 0.0001, 0.0001, 0.0001, 0.0001, 0.0001, 0.0001, 0.0001, 0.0001, 0.0001, 0.0001, 0.0001, 0.0001, 0.0001, 0.0001, 0.0001, 0.0001, 0.0001, 0.0001, 0.0001, 0.0001, 0.0001, 0.0001, 0.0001, 0.0001, 0.0001, 0.0001, 0.0001, 0.0001, 0.0001, 0.0001, 0.0001, 0.0001, 0.0001, 0.0001, 0.0001, 0.0001, 0.0001, 0.0001, 0.0001, 0.0001, 0.0001, 0.0001, 0.0001, 0.0001, 0.0001, 0.0001, 0.0001, 0.0001, 0.0001, 0.0001, 0.0, 0.0, 0.0, 0.0, 0.0, 0.0, 0.0, 0.0, 0.0, 0.0, 0.0, 0.0, 0.0, 0.0, 0.0, 0.0, 0.0, 0.0, 0.0, 0.0, 0.0, 0.0, 0.0, 0.0, 0.0, 0.0, 0.0, 0.0, 0.0, 0.0, 0.0, 0.0, 0.0, 0.0, 0.0, 0.0, 0.0, 0.0, 0.0, 0.0, 0.0, 0.0, 0.0, 0.0, 0.0, 0.0, 0.0, 0.0, 0.0, 0.0, 0.0, 0.0, 0.0, 0.0, 0.0, 0.0, 0.0, 0.0, 0.0, 0.0, 0.0, 0.0, 0.0, 0.0, 0.0, 0.0, 0.0, 0.0, 0.0, 0.0, 0.0, 0.0, 0.0, 0.0, 0.0, 0.0, 0.0, 0.0, 0.0, 0.0, 0.0, 0.0, 0.0, 0.0, 0.0, 0.0, 0.0, 0.0, 0.0, 0.0, 0.0, 0.0, 0.0, 0.0, 0.0, 0.0, 0.0, 0.0, 0.0, 0.0, 0.0, 0.0, 0.0, 0.0, 0.0, 0.0, 0.0, 0.0, 0.0, 0.0, 0.0, 0.0, 0.0, 0.0, 0.0, 0.0, 0.0, 0.0, 0.0, 0.0, 0.0, 0.0, 0.0, 0.0, 0.0, 0.0, 0.0, 0.0, 0.0, 0.0, 0.0, 0.0, 0.0, 0.0, 0.0, 0.0, 0.0, 0.0, 0.0, 0.0, 0.0, 0.0, 0.0, 0.0, 0.0, 0.0, 0.0, 0.0, 0.0, 0.0, 0.0, 0.0, 0.0, 0.0, 0.0, 0.0, 0.0, 0.0, 0.0, 0.0, 0.0, 0.0, 0.0, 0.0, 0.0, 0.0, 0.0, 0.0, 0.0, 0.0, 0.0, 0.0, 0.0, 0.0, 0.0, 0.0, 0.0, 0.0, 0.0, 0.0, 0.0, 0.0, 0.0, 0.0, 0.0, 0.0, 0.0, 0.0, 0.0, 0.0, 0.0, 0.0, 0.0, 0.0, 0.0, 0.0, 0.0, 0.0, 0.0, 0.0, 0.0, 0.0, 0.0, 0.0, 0.0, 0.0, 0.0, 0.0, 0.0, 0.0, 0.0, 0.0, 0.0, 0.0, 0.0, 0.0, 0.0, 0.0, 0.0, 0.0, 0.0, 0.0, 0.0, 0.0, 0.0, 0.0, 0.0, 0.0, 0.0, 0.0, 0.0, 0.0, 0.0, 0.0, 0.0, 0.0, 0.0, 0.0, 0.0, 0.0, 0.0, 0.0, 0.0, 0.0, 0.0, 0.0, 0.0, 0.0, 0.0, 0.0, 0.0, 0.0, 0.0, 0.0, 0.0, 0.0, 0.0, 0.0, 0.0, 0.0, 0.0, 0.0, 0.0, 0.0, 0.0, 0.0, 0.0, 0.0, 0.0, 0.0, 0.0, 0.0, 0.0, 0.0, 0.0, 0.0, 0.0, 0.0, 0.0, 0.0, 0.0, 0.0, 0.0, 0.0, 0.0, 0.0, 0.0, 0.0, 0.0, 0.0, 0.0, 0.0, 0.0, 0.0, 0.0, 0.0, 0.0, 0.0, 0.0, 0.0, 0.0, 0.0, 0.0, 0.0, 0.0, 0.0, 0.0, 0.0, 0.0, 0.0, 0.0, 0.0, 0.0, 0.0, 0.0, 0.0, 0.0, 0.0, 0.0])"
            ]
          },
          "metadata": {
            "tags": []
          },
          "execution_count": 29
        }
      ]
    },
    {
      "cell_type": "code",
      "metadata": {
        "id": "jCPAV7pfsGbp",
        "outputId": "06e69405-fd19-4342-9402-e20a689ce992",
        "colab": {
          "base_uri": "https://localhost:8080/"
        }
      },
      "source": [
        "# Now let's iterate through the vector and find how many components we need to explain at least 90% of the variance\n",
        "variance = 0\n",
        "step = 0\n",
        "for i in explained_var:\n",
        "    variance = variance + i\n",
        "    step = step + 1\n",
        "    if (variance >= .90) : break\n",
        "    #print(i)\n",
        "\n",
        "print(\"Explained Variance:\", variance)\n",
        "print(\"Number of Components needed:\", step)"
      ],
      "execution_count": 30,
      "outputs": [
        {
          "output_type": "stream",
          "text": [
            "Explained Variance: 0.900649705270449\n",
            "Number of Components needed: 246\n"
          ],
          "name": "stdout"
        }
      ]
    },
    {
      "cell_type": "markdown",
      "metadata": {
        "id": "3luBtgvosGbs"
      },
      "source": [
        "Analysis: With respect to choosing the number of components to use in PCA analysis, two good graphic tools are the scree plot and the cumulative sum of variance plot. In this case, with so many components, it is much easier to determine the desired number of components to consider using the cumulative plot. The cumulative plot shows the sum of variance captures as we include additional components. However, it' is still a little difficult to tell even with this plot so instead I wrote some custom code that iterated through the explained_var in order to find how many components I need to consider if I want 90% of the variance explained. I feel 90% is a satisfactory amount of variance given the context of the task. As my code shows that I should include 229 components. We can see the cumulative plot above shows this graphically as well if we imagine the intersection of two lines extending out of the y axis at 90, and the x axis at 229, they would intersect on our plotted line. Given this, I would reduce the number of components from 952 to 229 (while still being able to explain approximately 90% of the variance) in future analysis."
      ]
    },
    {
      "cell_type": "markdown",
      "metadata": {
        "id": "h44MeDQQsGbt"
      },
      "source": [
        "# Recommendation Funciton"
      ]
    },
    {
      "cell_type": "markdown",
      "metadata": {
        "id": "4YR-wVwwsGbv"
      },
      "source": [
        "This section provides code which makes recommendations on new characters to study based on a specific character that a Shakespeare fan likes.  The function is titled “get_nearest_chars” and it takes two arguments: char and num_nearest_chars. The char arg is a string which defines the character for which we are interested in finding similar characters. The num_nearest_chars arg is an integer that defines the total number of nearest characters which we want included in the return list. The get_nearest_chars function performs all of its internal operations in spark and returns a python list containing a string corresponding to each of the nearest characters defined by num_nearest_chars. The function computes the list of characters which are closest to the char arg using L2 Euclidian distance, based on two principle components.  I essentially fixed the number of PCA components to 2 so that we will limit the Euclidian distance to 2 dimensions for this problem.  The get_nearest_chars function rigorously error checks input data to verify that the user is not making illegal requests."
      ]
    },
    {
      "cell_type": "code",
      "metadata": {
        "id": "XzLHE0V5sGby"
      },
      "source": [
        "# Create function to provide recommendations\n",
        "from pyspark.sql import types\n",
        "import numpy as np\n",
        "\n",
        "def get_nearest_chars(char, num_nearest_chars):\n",
        "  # Error Checks\n",
        "    charList = list(quotes_by_char_df.select(\"character\").toPandas()[\"character\"])\n",
        "    if char not in charList:\n",
        "        return print(\"We can't find the character you entered. Please check the spelling of your character name.\")\n",
        "    if len(char) == 0: # test to check if the chars is an empty set\n",
        "        return print(\"Please enter a character to search for\")\n",
        "    if num_nearest_chars >= quotes_by_char_df.count(): # test to see if the arguement for num_neareast_chars exceeds the number of characters in the data\n",
        "        return print(\"Please enter fewer characters to relate to.  Your current request would simply list all characters in the data.\")\n",
        "    if num_nearest_chars < 1: # test to see if the arguement for num_neareast_chars is at least 1\n",
        "        return print(\"Please enter at least 1 character to recommend.\")\n",
        "    if not isinstance(num_nearest_chars, int):\n",
        "        return print(\"Please enter an integer to search for nearest charaters\")\n",
        "\n",
        "  # Build a principal component object with 2 Principle Components\n",
        "    pca_2 = feature.PCA(k=2, inputCol='centered_tfidf', outputCol='scores')\n",
        "\n",
        "  # Create a pipeline estimator and fit it to the data\n",
        "    pipe_pca_2 = Pipeline(stages=[pre_proc_pipe, pca_2]).fit(quotes_by_char_df)\n",
        "\n",
        "  # Recommendation Function\n",
        "    # Distance calc\n",
        "    def L2_dist(c1, c2):    \n",
        "        return float(np.sqrt((c1 - c2).T.dot((c1 - c2))))\n",
        "    L2_dist_udf = fn.udf(L2_dist, types.FloatType())\n",
        "  \n",
        "    #cross join fucntionality\n",
        "    spark.sql(\"SET spark.sql.crossJoin.enabled=TRUE\")\n",
        "\n",
        "    # Character mapping\n",
        "    df = (pipe_pca_2.transform(quotes_by_char_df).\\\n",
        "    where(quotes_by_char_df[\"character\"] == char).\\\n",
        "    select(fn.col(\"scores\").alias('character_score')).\\\n",
        "    join(pipe_pca_2.transform(quotes_by_char_df)).\\\n",
        "    withColumn('distance', L2_dist_udf('scores', 'character_score')).\\\n",
        "    select(\"character\", \"distance\", 'scores', 'character_score').\\\n",
        "    orderBy(fn.asc(\"distance\")).\\\n",
        "    select(\"character\").\\\n",
        "    limit(num_nearest_chars+1))\n",
        "    \n",
        "    # Produce list of nearest characters\n",
        "    df_pd = df.toPandas()\n",
        "    bestChars = list(df_pd.iloc[1:,0].values)\n",
        "    return bestChars"
      ],
      "execution_count": 31,
      "outputs": []
    },
    {
      "cell_type": "code",
      "metadata": {
        "id": "YmmtT3n5sGb2",
        "outputId": "475bc107-48bd-4787-8c6c-a336977590c2",
        "colab": {
          "base_uri": "https://localhost:8080/"
        }
      },
      "source": [
        "# Inspect the work\n",
        "print(get_nearest_chars('romeo', 5))\n",
        "print(get_nearest_chars('juliet', 5))\n"
      ],
      "execution_count": 33,
      "outputs": [
        {
          "output_type": "stream",
          "text": [
            "['duke vincentio', 'juliet', 'hamlet', 'prospero', 'king lear']\n",
            "['duke vincentio', 'hamlet', 'romeo', 'mark antony', 'cleopatra']\n"
          ],
          "name": "stdout"
        }
      ]
    },
    {
      "cell_type": "markdown",
      "metadata": {
        "id": "JIkbfXY9sGb7"
      },
      "source": [
        "## Now let's visualize realtionships"
      ]
    },
    {
      "cell_type": "code",
      "metadata": {
        "id": "2a9TepStsGb7"
      },
      "source": [
        "# Prepare a Juliet DF\n",
        "\n",
        "# Re-run pip_pca_2 again since before it was run in a funtion\n",
        "# Build a principal component object with 2 Principle Components\n",
        "pca_2 = feature.PCA(k=2, inputCol='centered_tfidf', outputCol='scores')\n",
        "\n",
        "# Create a pipeline estimator and fit it to the data\n",
        "pipe_pca_2 = Pipeline(stages=[pre_proc_pipe, pca_2]).fit(quotes_by_char_df)\n",
        "\n",
        "#cross join fucntionality\n",
        "spark.sql(\"SET spark.sql.crossJoin.enabled=TRUE\")\n",
        "\n",
        "# Distance calc\n",
        "def L2_dist(c1, c2):    \n",
        "    return float(np.sqrt((c1 - c2).T.dot((c1 - c2))))\n",
        "\n",
        "L2_dist_udf = fn.udf(L2_dist, types.FloatType())\n",
        "\n",
        "# Create DF\n",
        "juliet_df = (pipe_pca_2.transform(quotes_by_char_df).\\\n",
        "    where('character == \"juliet\"').\\\n",
        "    select(fn.col(\"scores\").alias('character_score')).\\\n",
        "    join(pipe_pca_2.transform(quotes_by_char_df)).\\\n",
        "    withColumn('distance', L2_dist_udf('scores', 'character_score')).\\\n",
        "    select(\"character\", \"distance\", 'scores', 'character_score').\\\n",
        "    orderBy(fn.asc(\"distance\")).\\\n",
        "    limit(10))\n"
      ],
      "execution_count": 34,
      "outputs": []
    },
    {
      "cell_type": "code",
      "metadata": {
        "id": "NkPE-IiPsGb9",
        "outputId": "130d073a-c7b4-4e85-e14a-bb0291fbf8ec",
        "colab": {
          "base_uri": "https://localhost:8080/"
        }
      },
      "source": [
        "# prepare for plotting by getting the character names and scores\n",
        "char_name = np.array(juliet_df.select('character').rdd.map(lambda x: x['character']).collect())\n",
        "X = np.array(juliet_df.select('scores').rdd.map(lambda x: x['scores']).collect())\n",
        "print(\"X.shape:\", X.shape)"
      ],
      "execution_count": 35,
      "outputs": [
        {
          "output_type": "stream",
          "text": [
            "X.shape: (10, 2)\n"
          ],
          "name": "stdout"
        }
      ]
    },
    {
      "cell_type": "code",
      "metadata": {
        "id": "An4lfRkDsGcA",
        "outputId": "f0c70c95-78c1-4415-e6bc-eb477a91dea4",
        "colab": {
          "base_uri": "https://localhost:8080/",
          "height": 482
        }
      },
      "source": [
        "# Plot the data\n",
        "fig, ax = plt.subplots()\n",
        "fig.set_figheight(7)\n",
        "fig.set_figwidth(7)\n",
        "ax.scatter(X[:,0], X[:,1],alpha = 0.5)\n",
        "ax.plot(X[0,0], X[0,1], 'ro')\n",
        "fig.suptitle(\"Juliet Character Proximity (Top 10) PC2 Scores vs. PC1 Scores\", y=.92)\n",
        "ax.set_xlabel(\"PC1\")\n",
        "ax.set_ylabel(\"PC2\")\n",
        "\n",
        "for i, txt in enumerate(char_name):\n",
        "    ax.annotate(txt, (X[i,0], X[i,1]))\n",
        "    \n",
        "display(plt.show())"
      ],
      "execution_count": 36,
      "outputs": [
        {
          "output_type": "display_data",
          "data": {
            "image/png": "[encoded data removed]",
            "text/plain": [
              "<Figure size 504x504 with 1 Axes>"
            ]
          },
          "metadata": {
            "tags": [],
            "needs_background": "light"
          }
        },
        {
          "output_type": "display_data",
          "data": {
            "text/plain": [
              "None"
            ]
          },
          "metadata": {
            "tags": []
          }
        }
      ]
    },
    {
      "cell_type": "markdown",
      "metadata": {
        "id": "ObSuFKvvsGcD"
      },
      "source": [
        "## Now let's perform inference analysis on the 10 most and 10 least important words in the data set as defined by the absolute value of the PC1 loading vector coefficients."
      ]
    },
    {
      "cell_type": "code",
      "metadata": {
        "id": "MP37GYR-sGcE"
      },
      "source": [
        "# Extract the vocabulary\n",
        "vocab = pipe_pca_2.stages[-2].stages[-3].vocabulary"
      ],
      "execution_count": 37,
      "outputs": []
    },
    {
      "cell_type": "code",
      "metadata": {
        "id": "-VU-tR_JsGcH"
      },
      "source": [
        "# Extract the loadings\n",
        "pca_model = pipe_pca_2.stages[-1]\n",
        "pc1 = pca_model.pc.toArray()[:, 0].tolist() #Isolate PC"
      ],
      "execution_count": 38,
      "outputs": []
    },
    {
      "cell_type": "code",
      "metadata": {
        "id": "ixYUkhR8sGcJ",
        "outputId": "d3dc962b-da6c-44ae-bf71-a07c2219703b",
        "colab": {
          "base_uri": "https://localhost:8080/"
        }
      },
      "source": [
        "# Inspect the loadings\n",
        "pc_loadings = pd.DataFrame([vocab, pc1]).T.rename(columns={0: 'word', 1: 'loading'})\n",
        "print(pc_loadings.shape)"
      ],
      "execution_count": 39,
      "outputs": [
        {
          "output_type": "stream",
          "text": [
            "(4326, 2)\n"
          ],
          "name": "stdout"
        }
      ]
    },
    {
      "cell_type": "code",
      "metadata": {
        "id": "O_F-UYrOsGcM"
      },
      "source": [
        "# Convert loading to absolute value as instructed\n",
        "pc_loadings['loading'] = pc_loadings['loading'].abs()"
      ],
      "execution_count": 40,
      "outputs": []
    },
    {
      "cell_type": "code",
      "metadata": {
        "id": "zugw_1PxsGcO"
      },
      "source": [
        "# Most important words (Absolute value of PC1)\n",
        "most_imp_df =  pc_loadings.sort_values('loading', ascending=False).head(10)"
      ],
      "execution_count": 41,
      "outputs": []
    },
    {
      "cell_type": "code",
      "metadata": {
        "id": "4cM8XJdCsGcS"
      },
      "source": [
        "# Least important words (Absolute value of PC1)\n",
        "least_imp_df  =  pc_loadings.sort_values('loading').head(10)"
      ],
      "execution_count": 43,
      "outputs": []
    },
    {
      "cell_type": "code",
      "metadata": {
        "id": "g7jgvMb4sGcX",
        "outputId": "585dc86a-9f80-4a96-8698-cf85057b5aa5",
        "colab": {
          "base_uri": "https://localhost:8080/",
          "height": 709
        }
      },
      "source": [
        "# Let's take a look\n",
        "display(most_imp_df)\n",
        "display(least_imp_df)"
      ],
      "execution_count": 44,
      "outputs": [
        {
          "output_type": "display_data",
          "data": {
            "text/html": [
              "<div>\n",
              "<style scoped>\n",
              "    .dataframe tbody tr th:only-of-type {\n",
              "        vertical-align: middle;\n",
              "    }\n",
              "\n",
              "    .dataframe tbody tr th {\n",
              "        vertical-align: top;\n",
              "    }\n",
              "\n",
              "    .dataframe thead th {\n",
              "        text-align: right;\n",
              "    }\n",
              "</style>\n",
              "<table border=\"1\" class=\"dataframe\">\n",
              "  <thead>\n",
              "    <tr style=\"text-align: right;\">\n",
              "      <th></th>\n",
              "      <th>word</th>\n",
              "      <th>loading</th>\n",
              "    </tr>\n",
              "  </thead>\n",
              "  <tbody>\n",
              "    <tr>\n",
              "      <th>0</th>\n",
              "      <td>thou</td>\n",
              "      <td>0.285423</td>\n",
              "    </tr>\n",
              "    <tr>\n",
              "      <th>1</th>\n",
              "      <td>thy</td>\n",
              "      <td>0.206123</td>\n",
              "    </tr>\n",
              "    <tr>\n",
              "      <th>3</th>\n",
              "      <td>thee</td>\n",
              "      <td>0.180756</td>\n",
              "    </tr>\n",
              "    <tr>\n",
              "      <th>12</th>\n",
              "      <td>love</td>\n",
              "      <td>0.123597</td>\n",
              "    </tr>\n",
              "    <tr>\n",
              "      <th>7</th>\n",
              "      <td>o</td>\n",
              "      <td>0.115176</td>\n",
              "    </tr>\n",
              "    <tr>\n",
              "      <th>2</th>\n",
              "      <td>shall</td>\n",
              "      <td>0.114636</td>\n",
              "    </tr>\n",
              "    <tr>\n",
              "      <th>10</th>\n",
              "      <td>ill</td>\n",
              "      <td>0.100792</td>\n",
              "    </tr>\n",
              "    <tr>\n",
              "      <th>20</th>\n",
              "      <td>king</td>\n",
              "      <td>0.097936</td>\n",
              "    </tr>\n",
              "    <tr>\n",
              "      <th>8</th>\n",
              "      <td>come</td>\n",
              "      <td>0.0967992</td>\n",
              "    </tr>\n",
              "    <tr>\n",
              "      <th>9</th>\n",
              "      <td>let</td>\n",
              "      <td>0.0965018</td>\n",
              "    </tr>\n",
              "  </tbody>\n",
              "</table>\n",
              "</div>"
            ],
            "text/plain": [
              "     word    loading\n",
              "0    thou   0.285423\n",
              "1     thy   0.206123\n",
              "3    thee   0.180756\n",
              "12   love   0.123597\n",
              "7       o   0.115176\n",
              "2   shall   0.114636\n",
              "10    ill   0.100792\n",
              "20   king   0.097936\n",
              "8    come  0.0967992\n",
              "9     let  0.0965018"
            ]
          },
          "metadata": {
            "tags": []
          }
        },
        {
          "output_type": "display_data",
          "data": {
            "text/html": [
              "<div>\n",
              "<style scoped>\n",
              "    .dataframe tbody tr th:only-of-type {\n",
              "        vertical-align: middle;\n",
              "    }\n",
              "\n",
              "    .dataframe tbody tr th {\n",
              "        vertical-align: top;\n",
              "    }\n",
              "\n",
              "    .dataframe thead th {\n",
              "        text-align: right;\n",
              "    }\n",
              "</style>\n",
              "<table border=\"1\" class=\"dataframe\">\n",
              "  <thead>\n",
              "    <tr style=\"text-align: right;\">\n",
              "      <th></th>\n",
              "      <th>word</th>\n",
              "      <th>loading</th>\n",
              "    </tr>\n",
              "  </thead>\n",
              "  <tbody>\n",
              "    <tr>\n",
              "      <th>1294</th>\n",
              "      <td>pyramus</td>\n",
              "      <td>0.000580211</td>\n",
              "    </tr>\n",
              "    <tr>\n",
              "      <th>3514</th>\n",
              "      <td>banks</td>\n",
              "      <td>0.000639008</td>\n",
              "    </tr>\n",
              "    <tr>\n",
              "      <th>4308</th>\n",
              "      <td>security</td>\n",
              "      <td>0.000758814</td>\n",
              "    </tr>\n",
              "    <tr>\n",
              "      <th>3983</th>\n",
              "      <td>fights</td>\n",
              "      <td>0.000763489</td>\n",
              "    </tr>\n",
              "    <tr>\n",
              "      <th>4299</th>\n",
              "      <td>labourd</td>\n",
              "      <td>0.000778994</td>\n",
              "    </tr>\n",
              "    <tr>\n",
              "      <th>4262</th>\n",
              "      <td>answering</td>\n",
              "      <td>0.000836044</td>\n",
              "    </tr>\n",
              "    <tr>\n",
              "      <th>3564</th>\n",
              "      <td>warning</td>\n",
              "      <td>0.000852918</td>\n",
              "    </tr>\n",
              "    <tr>\n",
              "      <th>3629</th>\n",
              "      <td>ale</td>\n",
              "      <td>0.000897731</td>\n",
              "    </tr>\n",
              "    <tr>\n",
              "      <th>3615</th>\n",
              "      <td>iii</td>\n",
              "      <td>0.000928793</td>\n",
              "    </tr>\n",
              "    <tr>\n",
              "      <th>3433</th>\n",
              "      <td>pursuit</td>\n",
              "      <td>0.000968587</td>\n",
              "    </tr>\n",
              "  </tbody>\n",
              "</table>\n",
              "</div>"
            ],
            "text/plain": [
              "           word      loading\n",
              "1294    pyramus  0.000580211\n",
              "3514      banks  0.000639008\n",
              "4308   security  0.000758814\n",
              "3983     fights  0.000763489\n",
              "4299    labourd  0.000778994\n",
              "4262  answering  0.000836044\n",
              "3564    warning  0.000852918\n",
              "3629        ale  0.000897731\n",
              "3615        iii  0.000928793\n",
              "3433    pursuit  0.000968587"
            ]
          },
          "metadata": {
            "tags": []
          }
        }
      ]
    },
    {
      "cell_type": "markdown",
      "metadata": {
        "id": "qNYZodLQsGcZ"
      },
      "source": [
        "Well I have to admit, I'm not much on Shakespeare so good inference will be a stretch…I’m sure a more sophisticated reader of Shakespeare can see much more in these results than me…but here goes…\n",
        "\n",
        "The absolute value of the PCA loadings is a measure of how important or unimportant a term is. Rooted by the tfidf, it provides a score on how important a word is to a document in a collection or corpus of documents. Generally, PCA is a dimensionality reduction tool that helps to reorganize the internal correlation structure among a group of measurements displayed in a compact way. When there is common variance among the input variables (our words in this case) the loading of that variance gets placed into the first component. These loadings are similar to regression weights and correlation coefficients. The magnitude of how well each word connects with this synthesized new variable (PC1) can be determined by the absolute values captured above. We can see in the most_imp_df, these words load very strongly with PC1, but in least_imp_df ,these words load weaker with PC1. If we were to look at the second component, we would most likely see the low values loaded on that loading. Based on the way I pre-processed my data, and the parameters I selected during TF-IDF, we see words like thou, thy, love, king and alike are important. Which, with my limited experience with Shakespeare, I can say that sounds about right consider the way he wrote and the things he wrote about. Conversely, we see words ranked as least important like banks, fights, answering and alike, that clearly don’t sound much like Shakepseare at all and frankly, carry little meaning.\n"
      ]
    },
    {
      "cell_type": "markdown",
      "metadata": {
        "id": "5E8zeUV3sGca"
      },
      "source": [
        "# Part 2: K-Means Clustering "
      ]
    },
    {
      "cell_type": "markdown",
      "metadata": {
        "id": "qqcR-G7usGcj"
      },
      "source": [
        "In this section I will compute K-Means silhouette scores for K = 2 through 6 on the PCA score data. I will train my model on each K 3 times to find the highest silhouette score. The silhouette score is a measure of within cluster variation. Because K-Means starts out with random cluster assignments, it is not guaranteed to find a global minima so I made multiple runs to find the lowest score. I will also plot the silhouette scores vs. K. "
      ]
    },
    {
      "cell_type": "code",
      "metadata": {
        "id": "QVfzOODPsGck"
      },
      "source": [
        "# Based on what I learned ealier, I'm going to reduce my Components to 292 which allows me to explain 90% of variance while keeping things efficient\n",
        "\n",
        "# Build a principal component object with the same number of components as k\n",
        "pca_90 = feature.PCA(k=292, inputCol='centered_tfidf', outputCol='scores_90')\n",
        "\n",
        "# Create a pipeline estimator and fit it to the data\n",
        "pipe_pca_90 = Pipeline(stages=[pca_90]).fit(chars_pca_df)\n",
        "\n",
        "# Transform\n",
        "chars_pca_90_df = pipe_pca_90.transform(chars_pca_df)"
      ],
      "execution_count": 45,
      "outputs": []
    },
    {
      "cell_type": "code",
      "metadata": {
        "id": "Zi3B5X8csGco"
      },
      "source": [
        "from pyspark.ml.clustering import KMeans\n",
        "# Even though the PCA column is the same units, I'll begin the K-Means process by creating a normalizing object so the vectors have the same length\n",
        "norm = feature.Normalizer(inputCol=\"scores_90\", outputCol=\"norm_scores_90\", p=2.0)"
      ],
      "execution_count": 46,
      "outputs": []
    },
    {
      "cell_type": "code",
      "metadata": {
        "id": "iCYOzFWEsGcs"
      },
      "source": [
        "# Create a new norm pipline\n",
        "pipeline_norm = Pipeline(stages=[norm])"
      ],
      "execution_count": 47,
      "outputs": []
    },
    {
      "cell_type": "code",
      "metadata": {
        "id": "lmcMdqzPsGcx"
      },
      "source": [
        "# Fit and transform\n",
        "chars_pca_df_k = pipeline_norm.fit(chars_pca_90_df).transform(chars_pca_90_df)"
      ],
      "execution_count": 48,
      "outputs": []
    },
    {
      "cell_type": "code",
      "metadata": {
        "id": "yCMmGADRsGcz"
      },
      "source": [
        "#Create a loop in a loop to run through several k, several times\n",
        "from pyspark.ml.clustering import KMeans\n",
        "from pyspark.ml.evaluation import ClusteringEvaluator\n",
        "silh_lst = []\n",
        "r_table = chars_pca_df.select(\"character\").toPandas()\n",
        "k_list = range(2,7)\n",
        "\n",
        "\n",
        "for k in k_list:\n",
        "  sil_vals = []\n",
        "  for run in range(1,4):\n",
        "    # Train Model\n",
        "    kmeans = KMeans().setK(k).setFeaturesCol('norm_scores_90').setPredictionCol('kmeans_feat').setInitSteps(3) # The initstep parameter initializes the random cluster centers n times and takes the highest score.\n",
        "    model = kmeans.fit(chars_pca_df_k)\n",
        "   \n",
        "    # Predict\n",
        "    predictions = model.transform(chars_pca_df_k)\n",
        "    r_table['cluster_{k}_{run}'.format(k=k, run=run)]= predictions.select('kmeans_feat').toPandas()\n",
        "    \n",
        "    # Evaluate clustering by computing Silhouette score\n",
        "    evaluator = ClusteringEvaluator()\n",
        "    evaluator.setPredictionCol(\"kmeans_feat\")\n",
        "    evaluator.setFeaturesCol(\"norm_scores_90\")\n",
        "    silhouette = evaluator.evaluate(predictions)\n",
        "    sil_vals.append(silhouette)\n",
        "  \n",
        "  silh_array = np.asanyarray(max(sil_vals))\n",
        "  silh_lst.append(silh_array)\n",
        "\n",
        "  silhouette = pd.DataFrame(list(zip(k_list,silh_lst)),columns = ['k', 'max_silhouette'])"
      ],
      "execution_count": 49,
      "outputs": []
    },
    {
      "cell_type": "code",
      "metadata": {
        "id": "bY-9SKI-sGc3",
        "outputId": "7439ffdd-6060-424a-973d-7f3c588353c5",
        "colab": {
          "base_uri": "https://localhost:8080/",
          "height": 206
        }
      },
      "source": [
        "# Review the max silhoutte scores\n",
        "silhouette"
      ],
      "execution_count": 50,
      "outputs": [
        {
          "output_type": "execute_result",
          "data": {
            "text/html": [
              "<div>\n",
              "<style scoped>\n",
              "    .dataframe tbody tr th:only-of-type {\n",
              "        vertical-align: middle;\n",
              "    }\n",
              "\n",
              "    .dataframe tbody tr th {\n",
              "        vertical-align: top;\n",
              "    }\n",
              "\n",
              "    .dataframe thead th {\n",
              "        text-align: right;\n",
              "    }\n",
              "</style>\n",
              "<table border=\"1\" class=\"dataframe\">\n",
              "  <thead>\n",
              "    <tr style=\"text-align: right;\">\n",
              "      <th></th>\n",
              "      <th>k</th>\n",
              "      <th>max_silhouette</th>\n",
              "    </tr>\n",
              "  </thead>\n",
              "  <tbody>\n",
              "    <tr>\n",
              "      <th>0</th>\n",
              "      <td>2</td>\n",
              "      <td>0.4905476828189594</td>\n",
              "    </tr>\n",
              "    <tr>\n",
              "      <th>1</th>\n",
              "      <td>3</td>\n",
              "      <td>0.4171471992339756</td>\n",
              "    </tr>\n",
              "    <tr>\n",
              "      <th>2</th>\n",
              "      <td>4</td>\n",
              "      <td>0.3806740659689137</td>\n",
              "    </tr>\n",
              "    <tr>\n",
              "      <th>3</th>\n",
              "      <td>5</td>\n",
              "      <td>0.31942512711712434</td>\n",
              "    </tr>\n",
              "    <tr>\n",
              "      <th>4</th>\n",
              "      <td>6</td>\n",
              "      <td>0.33418236734871903</td>\n",
              "    </tr>\n",
              "  </tbody>\n",
              "</table>\n",
              "</div>"
            ],
            "text/plain": [
              "   k       max_silhouette\n",
              "0  2   0.4905476828189594\n",
              "1  3   0.4171471992339756\n",
              "2  4   0.3806740659689137\n",
              "3  5  0.31942512711712434\n",
              "4  6  0.33418236734871903"
            ]
          },
          "metadata": {
            "tags": []
          },
          "execution_count": 50
        }
      ]
    },
    {
      "cell_type": "code",
      "metadata": {
        "id": "3PGlprYLsGc5",
        "outputId": "4036ec73-b0dc-4383-f52b-5ecc95db3fcc",
        "colab": {
          "base_uri": "https://localhost:8080/",
          "height": 482
        }
      },
      "source": [
        "# Plot the data\n",
        "fig, ax = plt.subplots()\n",
        "fig.set_figheight(7)\n",
        "fig.set_figwidth(7)\n",
        "ax.scatter(silhouette[\"k\"], silhouette[\"max_silhouette\"], s = 100, alpha = 0.5)\n",
        "fig.suptitle(\"Maximum Silhouette Score Achieved for each K Cluster (2-6)\", y=.92)\n",
        "plt.xticks(np.arange(2, 7, 1))\n",
        "ax.set_xlabel(\"K Clusters\")\n",
        "ax.set_ylabel(\"Maximum Silhouette\")\n",
        "    \n",
        "display(plt.show())"
      ],
      "execution_count": 51,
      "outputs": [
        {
          "output_type": "display_data",
          "data": {
            "image/png": "[encoded data removed]",
            "text/plain": [
              "<Figure size 504x504 with 1 Axes>"
            ]
          },
          "metadata": {
            "tags": [],
            "needs_background": "light"
          }
        },
        {
          "output_type": "display_data",
          "data": {
            "text/plain": [
              "None"
            ]
          },
          "metadata": {
            "tags": []
          }
        }
      ]
    },
    {
      "cell_type": "markdown",
      "metadata": {
        "id": "sQ_duxXRsGc9"
      },
      "source": [
        "The cluster with the highest silhouette score is 2. This tells us a lot about the underlying data. Specifically, it tells us that despite their being so many characters in Shakespeare’s writings, its generally best to classify them into two different groups"
      ]
    },
    {
      "cell_type": "markdown",
      "metadata": {
        "id": "4HmgW9TBsGc_"
      },
      "source": [
        "Let’s expand the analysis and Perform K-Means clustering and plot the results using a scatter plot. The goal of will be to try to find an interesting insight about the Shakespeare characters. I will color the points by cluster assignment. Based on my discoveries above, I will generate two clusters and plot the observation data in 2 dimensions by using PC1 and PC2 as the X and Y coordinates. "
      ]
    },
    {
      "cell_type": "code",
      "metadata": {
        "id": "ZIZnjMv8sGc_"
      },
      "source": [
        "# Continuing with tearlier work, I'll begin by extracting the first two components and move them into thier own colums\n",
        "from pyspark.ml.feature import VectorSlicer\n",
        "\n",
        "# #Create a vector Slicer to braeak up the PCA scores\n",
        "PCA1_slicer = VectorSlicer(inputCol=\"norm_scores_90\", outputCol=\"PCA1\", indices=[0])\n",
        "PCA2_slicer = VectorSlicer(inputCol=\"norm_scores_90\", outputCol=\"PCA2\", indices=[1])\n",
        "\n",
        "# Fit the pipe\n",
        "pca_plot_norm_pipe = Pipeline(stages=[PCA1_slicer,PCA2_slicer]).fit(chars_pca_df_k)\n",
        "\n",
        "# Fit, Transform and create new df\n",
        "pca_plot_norm_df = pca_plot_norm_pipe.transform(chars_pca_df_k)"
      ],
      "execution_count": 52,
      "outputs": []
    },
    {
      "cell_type": "code",
      "metadata": {
        "id": "zzEz6e3asGdC",
        "outputId": "4b5a3788-25c9-4410-8bdb-4137b1cb6d71",
        "colab": {
          "base_uri": "https://localhost:8080/"
        }
      },
      "source": [
        "# Inspect the DF\n",
        "pca_plot_norm_df.show(5)"
      ],
      "execution_count": 53,
      "outputs": [
        {
          "output_type": "stream",
          "text": [
            "+-----------+--------------------+--------------------+--------------------+--------------------+--------------------+--------------------+--------------------+--------------------+--------------------+--------------------+--------------------+\n",
            "|  character|          all_quotes|      all_quotes_Out|            filtered|                  tf|               tfidf|      centered_tfidf|              scores|           scores_90|      norm_scores_90|                PCA1|                PCA2|\n",
            "+-----------+--------------------+--------------------+--------------------+--------------------+--------------------+--------------------+--------------------+--------------------+--------------------+--------------------+--------------------+\n",
            "|     a lord|       sir it was i |   [sir, it, was, i]|               [sir]|    (4326,[6],[1.0])|(4326,[6],[0.7693...|[-3.8421384319495...|[15.9365442099680...|[15.9365442099680...|[0.98612429947436...|[0.9861242994743697]|[-0.0694128004725...|\n",
            "|   a player|so please your lo...|[so, please, your...|[lordship, accept...|(4326,[5,23,49,53...|(4326,[5,23,49,53...|[-3.8421384319495...|[15.5119685929332...|[15.5119685929332...|[0.97745988188779...|[0.9774598818877946]|[-0.0817105375486...|\n",
            "|      aaron|now climbeth tamo...|[now, climbeth, t...|[climbeth, tamora...|(4326,[0,1,2,3,4,...|(4326,[0,1,2,3,4,...|[7.69032747560295...|[-37.292363933075...|[-37.292363933075...|[-0.3123139619707...|[-0.3123139619707...|[-0.0193355223619...|\n",
            "|abergavenny|i cannot tell wha...|[i, cannot, tell,...|[tell, heaven, ha...|(4326,[2,11,15,22...|(4326,[2,11,15,22...|[-3.8421384319495...|[14.5979382538797...|[14.5979382538797...|[0.94687947037230...|[0.9468794703723072]|[-0.1020699288970...|\n",
            "|    abraham|do you bite your ...|[do, you, bite, y...|[bite, thumb, sir...|(4326,[6,61,142,6...|(4326,[6,61,142,6...|[-3.8421384319495...|[15.5721134537762...|[15.5721134537762...|[0.97341016534314...|[0.9734101653431423]|[-0.0462168675472...|\n",
            "+-----------+--------------------+--------------------+--------------------+--------------------+--------------------+--------------------+--------------------+--------------------+--------------------+--------------------+--------------------+\n",
            "only showing top 5 rows\n",
            "\n"
          ],
          "name": "stdout"
        }
      ]
    },
    {
      "cell_type": "code",
      "metadata": {
        "id": "JyE1jP7SsGdG"
      },
      "source": [
        "# Conduct K-means with the most perfomant set-up from Q7 (2 clusters, 1 initStep)\n",
        "\n",
        "# Train Model\n",
        "kmeans = KMeans().setK(2).setFeaturesCol('norm_scores_90').setPredictionCol('kmeans_cluster').setInitSteps(1) # The initstep parameter initializes the random cluster centers n times and takes the lowest score.\n",
        "model = kmeans.fit(pca_plot_norm_df)\n",
        "   \n",
        "# Predict\n",
        "predictions = model.transform(pca_plot_norm_df)\n",
        "predictions_reduced = predictions.select(\"character\",\"PCA1\", \"PCA2\",\"kmeans_cluster\" )"
      ],
      "execution_count": 54,
      "outputs": []
    },
    {
      "cell_type": "code",
      "metadata": {
        "id": "4SDd0WRAsGdI",
        "outputId": "a6384b2a-16e5-48e4-9312-92430a26b099",
        "colab": {
          "base_uri": "https://localhost:8080/"
        }
      },
      "source": [
        "# Inspect the DF\n",
        "predictions_reduced.show(5)\n",
        "predictions_reduced.printSchema()"
      ],
      "execution_count": 55,
      "outputs": [
        {
          "output_type": "stream",
          "text": [
            "+-----------+--------------------+--------------------+--------------+\n",
            "|  character|                PCA1|                PCA2|kmeans_cluster|\n",
            "+-----------+--------------------+--------------------+--------------+\n",
            "|     a lord|[0.9861242994743697]|[-0.0694128004725...|             0|\n",
            "|   a player|[0.9774598818877946]|[-0.0817105375486...|             0|\n",
            "|      aaron|[-0.3123139619707...|[-0.0193355223619...|             1|\n",
            "|abergavenny|[0.9468794703723072]|[-0.1020699288970...|             0|\n",
            "|    abraham|[0.9734101653431423]|[-0.0462168675472...|             0|\n",
            "+-----------+--------------------+--------------------+--------------+\n",
            "only showing top 5 rows\n",
            "\n",
            "root\n",
            " |-- character: string (nullable = true)\n",
            " |-- PCA1: vector (nullable = true)\n",
            " |-- PCA2: vector (nullable = true)\n",
            " |-- kmeans_cluster: integer (nullable = false)\n",
            "\n"
          ],
          "name": "stdout"
        }
      ]
    },
    {
      "cell_type": "code",
      "metadata": {
        "id": "Mwy2aCfFsGdK",
        "outputId": "25160775-140d-4f88-faa4-d91a705a9d2d",
        "colab": {
          "base_uri": "https://localhost:8080/"
        }
      },
      "source": [
        "# UDF for converting column type from vector to double type to assist with plotting\n",
        "from pyspark.sql.functions import udf\n",
        "from pyspark.sql.types import DoubleType\n",
        "\n",
        "unlist = udf(lambda x: float(list(x)[0]), DoubleType())\n",
        "\n",
        "predictions_reduced = predictions_reduced.withColumn(\"PCA1_new\", unlist(\"PCA1\"))\n",
        "predictions_reduced = predictions_reduced.withColumn(\"PCA2_new\", unlist(\"PCA2\"))\n",
        "\n",
        "# I'll also round the values\n",
        "predictions_reduced = predictions_reduced.withColumn(\"PCA1_new\", (fn.round(predictions_reduced[\"PCA1_new\"], 8)))\n",
        "predictions_reduced = predictions_reduced.withColumn(\"PCA2_new\", (fn.round(predictions_reduced[\"PCA2_new\"], 8)))\n",
        "\n",
        "predictions_final = predictions_reduced.select(\"character\",\"PCA1_new\", \"PCA2_new\",\"kmeans_cluster\" )\n",
        "\n",
        "predictions_final.show(5)\n",
        "predictions_final.printSchema()"
      ],
      "execution_count": 56,
      "outputs": [
        {
          "output_type": "stream",
          "text": [
            "+-----------+-----------+-----------+--------------+\n",
            "|  character|   PCA1_new|   PCA2_new|kmeans_cluster|\n",
            "+-----------+-----------+-----------+--------------+\n",
            "|     a lord|  0.9861243| -0.0694128|             0|\n",
            "|   a player| 0.97745988|-0.08171054|             0|\n",
            "|      aaron|-0.31231396|-0.01933552|             1|\n",
            "|abergavenny| 0.94687947|-0.10206993|             0|\n",
            "|    abraham| 0.97341017|-0.04621687|             0|\n",
            "+-----------+-----------+-----------+--------------+\n",
            "only showing top 5 rows\n",
            "\n",
            "root\n",
            " |-- character: string (nullable = true)\n",
            " |-- PCA1_new: double (nullable = true)\n",
            " |-- PCA2_new: double (nullable = true)\n",
            " |-- kmeans_cluster: integer (nullable = false)\n",
            "\n"
          ],
          "name": "stdout"
        }
      ]
    },
    {
      "cell_type": "code",
      "metadata": {
        "id": "KmFE9CA-sGdM"
      },
      "source": [
        "# Identify the cluster centers\n",
        "cluster_0 = model.clusterCenters()[0]\n",
        "cluster_1 = model.clusterCenters()[1]"
      ],
      "execution_count": 57,
      "outputs": []
    },
    {
      "cell_type": "code",
      "metadata": {
        "id": "x40HGBoUsGdO"
      },
      "source": [
        "# I created this code aftet the initial plot to meet the requirements of the quesition by denoting insights on the plot\n",
        "# Find outliers\n",
        "# Build scoping logic\n",
        "outlier_logic = ((predictions_final[\"PCA1_new\"]  < -60) | (predictions_final[\"PCA2_new\"] > 0.3) | (predictions_final[\"PCA2_new\"] < -0.4) | ((predictions_final[\"PCA2_new\"] < -0.29) &  (predictions_final[\"PCA1_new\"]  > 0.25)))\n",
        "\n",
        "# Scope the DF using logic\n",
        "predictions_scope = predictions_final[outlier_logic]\n",
        "\n",
        "# Review the scoped DF\n",
        "predictions_scope_pd = predictions_scope.toPandas()\n",
        "\n",
        "\n",
        "#ID center of gravity chartacters for cluster 0\n",
        "c0_logic = (((predictions_final[\"PCA1_new\"]  < 0.86) & (predictions_final[\"PCA1_new\"]  > 0.84)) & ((predictions_final[\"PCA2_new\"] < -0.08) & (predictions_final[\"PCA2_new\"] > -0.1)))\n",
        "\n",
        "# Scope the DF using logic\n",
        "c0_scope = predictions_final[c0_logic]\n",
        "\n",
        "# Review the scoped DF\n",
        "c0_scope_pd = c0_scope.toPandas()\n",
        "\n",
        "\n",
        "\n",
        "#ID center of gravity chartacters for cluster 1\n",
        "c1_logic = (((predictions_final[\"PCA1_new\"]  > -0.2) & (predictions_final[\"PCA1_new\"]  < -0.18)) & ((predictions_final[\"PCA2_new\"] < -0.10) & (predictions_final[\"PCA2_new\"] > -0.13)))\n",
        "\n",
        "\n",
        "# Scope the DF using logic\n",
        "c1_scope = predictions_final[c1_logic]\n",
        "\n",
        "# Review the scoped DF\n",
        "c1_scope_pd = c1_scope.toPandas()\n",
        "\n",
        "\n"
      ],
      "execution_count": 100,
      "outputs": []
    },
    {
      "cell_type": "code",
      "metadata": {
        "id": "lu_DaqMksGdQ",
        "outputId": "e4bcddac-d827-4671-bc09-52ed357e588d",
        "colab": {
          "base_uri": "https://localhost:8080/",
          "height": 363
        }
      },
      "source": [
        "# Review the logic DFs\n",
        "predictions_scope_pd"
      ],
      "execution_count": 96,
      "outputs": [
        {
          "output_type": "execute_result",
          "data": {
            "text/html": [
              "<div>\n",
              "<style scoped>\n",
              "    .dataframe tbody tr th:only-of-type {\n",
              "        vertical-align: middle;\n",
              "    }\n",
              "\n",
              "    .dataframe tbody tr th {\n",
              "        vertical-align: top;\n",
              "    }\n",
              "\n",
              "    .dataframe thead th {\n",
              "        text-align: right;\n",
              "    }\n",
              "</style>\n",
              "<table border=\"1\" class=\"dataframe\">\n",
              "  <thead>\n",
              "    <tr style=\"text-align: right;\">\n",
              "      <th></th>\n",
              "      <th>character</th>\n",
              "      <th>PCA1_new</th>\n",
              "      <th>PCA2_new</th>\n",
              "      <th>kmeans_cluster</th>\n",
              "    </tr>\n",
              "  </thead>\n",
              "  <tbody>\n",
              "    <tr>\n",
              "      <th>0</th>\n",
              "      <td>basset</td>\n",
              "      <td>0.739216</td>\n",
              "      <td>-0.314422</td>\n",
              "      <td>0</td>\n",
              "    </tr>\n",
              "    <tr>\n",
              "      <th>1</th>\n",
              "      <td>green</td>\n",
              "      <td>0.693042</td>\n",
              "      <td>-0.345829</td>\n",
              "      <td>0</td>\n",
              "    </tr>\n",
              "    <tr>\n",
              "      <th>2</th>\n",
              "      <td>henry percy</td>\n",
              "      <td>0.500251</td>\n",
              "      <td>-0.309738</td>\n",
              "      <td>0</td>\n",
              "    </tr>\n",
              "    <tr>\n",
              "      <th>3</th>\n",
              "      <td>prince edward</td>\n",
              "      <td>0.172314</td>\n",
              "      <td>-0.450117</td>\n",
              "      <td>1</td>\n",
              "    </tr>\n",
              "    <tr>\n",
              "      <th>4</th>\n",
              "      <td>york</td>\n",
              "      <td>-0.524091</td>\n",
              "      <td>-0.560293</td>\n",
              "      <td>1</td>\n",
              "    </tr>\n",
              "    <tr>\n",
              "      <th>5</th>\n",
              "      <td>king henry vi</td>\n",
              "      <td>-0.576433</td>\n",
              "      <td>-0.536384</td>\n",
              "      <td>1</td>\n",
              "    </tr>\n",
              "    <tr>\n",
              "      <th>6</th>\n",
              "      <td>oxford</td>\n",
              "      <td>0.553947</td>\n",
              "      <td>-0.459711</td>\n",
              "      <td>0</td>\n",
              "    </tr>\n",
              "    <tr>\n",
              "      <th>7</th>\n",
              "      <td>post</td>\n",
              "      <td>0.609627</td>\n",
              "      <td>-0.386946</td>\n",
              "      <td>0</td>\n",
              "    </tr>\n",
              "    <tr>\n",
              "      <th>8</th>\n",
              "      <td>queen margaret</td>\n",
              "      <td>-0.595835</td>\n",
              "      <td>-0.491838</td>\n",
              "      <td>1</td>\n",
              "    </tr>\n",
              "    <tr>\n",
              "      <th>9</th>\n",
              "      <td>warwick</td>\n",
              "      <td>-0.491575</td>\n",
              "      <td>-0.603119</td>\n",
              "      <td>1</td>\n",
              "    </tr>\n",
              "  </tbody>\n",
              "</table>\n",
              "</div>"
            ],
            "text/plain": [
              "        character  PCA1_new  PCA2_new  kmeans_cluster\n",
              "0          basset  0.739216 -0.314422               0\n",
              "1           green  0.693042 -0.345829               0\n",
              "2     henry percy  0.500251 -0.309738               0\n",
              "3   prince edward  0.172314 -0.450117               1\n",
              "4            york -0.524091 -0.560293               1\n",
              "5   king henry vi -0.576433 -0.536384               1\n",
              "6          oxford  0.553947 -0.459711               0\n",
              "7            post  0.609627 -0.386946               0\n",
              "8  queen margaret -0.595835 -0.491838               1\n",
              "9         warwick -0.491575 -0.603119               1"
            ]
          },
          "metadata": {
            "tags": []
          },
          "execution_count": 96
        }
      ]
    },
    {
      "cell_type": "code",
      "metadata": {
        "id": "-PxcQYB0sGdS",
        "outputId": "c8fc4440-a96b-4bc3-aa15-8a3f21297580",
        "colab": {
          "base_uri": "https://localhost:8080/",
          "height": 81
        }
      },
      "source": [
        "# Review the logic DFs\n",
        "c0_scope_pd"
      ],
      "execution_count": 82,
      "outputs": [
        {
          "output_type": "execute_result",
          "data": {
            "text/html": [
              "<div>\n",
              "<style scoped>\n",
              "    .dataframe tbody tr th:only-of-type {\n",
              "        vertical-align: middle;\n",
              "    }\n",
              "\n",
              "    .dataframe tbody tr th {\n",
              "        vertical-align: top;\n",
              "    }\n",
              "\n",
              "    .dataframe thead th {\n",
              "        text-align: right;\n",
              "    }\n",
              "</style>\n",
              "<table border=\"1\" class=\"dataframe\">\n",
              "  <thead>\n",
              "    <tr style=\"text-align: right;\">\n",
              "      <th></th>\n",
              "      <th>character</th>\n",
              "      <th>PCA1_new</th>\n",
              "      <th>PCA2_new</th>\n",
              "      <th>kmeans_cluster</th>\n",
              "    </tr>\n",
              "  </thead>\n",
              "  <tbody>\n",
              "    <tr>\n",
              "      <th>0</th>\n",
              "      <td>hymen</td>\n",
              "      <td>0.844693</td>\n",
              "      <td>-0.089698</td>\n",
              "      <td>0</td>\n",
              "    </tr>\n",
              "  </tbody>\n",
              "</table>\n",
              "</div>"
            ],
            "text/plain": [
              "  character  PCA1_new  PCA2_new  kmeans_cluster\n",
              "0     hymen  0.844693 -0.089698               0"
            ]
          },
          "metadata": {
            "tags": []
          },
          "execution_count": 82
        }
      ]
    },
    {
      "cell_type": "code",
      "metadata": {
        "id": "SUe7TzAEsGdU",
        "outputId": "9d54aaf5-efa0-421f-fade-ad430cbc02a5",
        "colab": {
          "base_uri": "https://localhost:8080/",
          "height": 81
        }
      },
      "source": [
        "# Review the logic DFs\n",
        "c1_scope_pd"
      ],
      "execution_count": 101,
      "outputs": [
        {
          "output_type": "execute_result",
          "data": {
            "text/html": [
              "<div>\n",
              "<style scoped>\n",
              "    .dataframe tbody tr th:only-of-type {\n",
              "        vertical-align: middle;\n",
              "    }\n",
              "\n",
              "    .dataframe tbody tr th {\n",
              "        vertical-align: top;\n",
              "    }\n",
              "\n",
              "    .dataframe thead th {\n",
              "        text-align: right;\n",
              "    }\n",
              "</style>\n",
              "<table border=\"1\" class=\"dataframe\">\n",
              "  <thead>\n",
              "    <tr style=\"text-align: right;\">\n",
              "      <th></th>\n",
              "      <th>character</th>\n",
              "      <th>PCA1_new</th>\n",
              "      <th>PCA2_new</th>\n",
              "      <th>kmeans_cluster</th>\n",
              "    </tr>\n",
              "  </thead>\n",
              "  <tbody>\n",
              "    <tr>\n",
              "      <th>0</th>\n",
              "      <td>king philip</td>\n",
              "      <td>-0.197076</td>\n",
              "      <td>-0.127655</td>\n",
              "      <td>1</td>\n",
              "    </tr>\n",
              "  </tbody>\n",
              "</table>\n",
              "</div>"
            ],
            "text/plain": [
              "     character  PCA1_new  PCA2_new  kmeans_cluster\n",
              "0  king philip -0.197076 -0.127655               1"
            ]
          },
          "metadata": {
            "tags": []
          },
          "execution_count": 101
        }
      ]
    },
    {
      "cell_type": "code",
      "metadata": {
        "id": "TJAgJCEisGdb",
        "outputId": "489391b0-9f3f-4f80-908f-c78258ab891e",
        "colab": {
          "base_uri": "https://localhost:8080/",
          "height": 935
        }
      },
      "source": [
        "# And let's plot\n",
        "import seaborn as sns\n",
        "sns.set(style=\"ticks\")\n",
        "\n",
        "\n",
        "# Plot 1\n",
        "p2 = sns.relplot(x=\"PCA1_new\", y=\"PCA2_new\",hue=\"kmeans_cluster\", palette = ['g','r'], data= predictions_final.toPandas())\n",
        "p2.ax.xaxis.grid(True, \"minor\", linewidth=.25)\n",
        "p2.ax.yaxis.grid(True, \"minor\", linewidth=.25)\n",
        "p2.ax.set_title(\"Scatterplot of Shakespeare Character Proximity - PC2 Scores vs. PC1 Scores (with k-means Clustering)\\n with outliers and center characters labeled\")\n",
        "p2.fig.set_size_inches(18,13)\n",
        " \n",
        "for line in range(0,predictions_scope_pd.shape[0]):\n",
        "     p2.ax.text(predictions_scope_pd.PCA1_new[line]+0.02, predictions_scope_pd.PCA2_new[line], predictions_scope_pd.character[line],\n",
        "                horizontalalignment='left', size='medium', color='black', weight='semibold', fontsize=8)\n",
        "     \n",
        "for char1 in range(0,c0_scope_pd.shape[0]):\n",
        "     p2.ax.text(c0_scope_pd.PCA1_new[char1]+0.02, c0_scope_pd.PCA2_new[char1], c0_scope_pd.character[char1],\n",
        "                horizontalalignment='left', size='medium', color='black', weight='semibold', fontsize=11)\n",
        "     \n",
        "for char2 in range(0,c1_scope_pd.shape[0]):\n",
        "     p2.ax.text(c1_scope_pd.PCA1_new[char2]+0.02, c1_scope_pd.PCA2_new[char2], c1_scope_pd.character[char2],\n",
        "                horizontalalignment='left', size='medium', color='black', weight='semibold', fontsize=11)\n",
        "\n",
        "display(p2)"
      ],
      "execution_count": 102,
      "outputs": [
        {
          "output_type": "display_data",
          "data": {
            "text/plain": [
              "<seaborn.axisgrid.FacetGrid at 0x7f64dea7ce10>"
            ]
          },
          "metadata": {
            "tags": []
          }
        },
        {
          "output_type": "display_data",
          "data": {
            "image/png": "[encoded data removed]",
            "text/plain": [
              "<Figure size 1296x936 with 1 Axes>"
            ]
          },
          "metadata": {
            "tags": []
          }
        }
      ]
    },
    {
      "cell_type": "markdown",
      "metadata": {
        "id": "6TrawoQHsGdd"
      },
      "source": [
        "The work in the plot above is based on what was learned from earlier parts of this notebook.  As illustrated in previously, based on the way I preprocessed the data, I was able to explain 90% of the variance with 292 components.  I also demonstrated that the best way to maximize our silhouette score is to conduct cluster analysis with two cluster.  Taking these into consideration, I have created the above 2 dimensional plot using PCA1 which accounts for 0.17 percent of variance for the X-axis, and PCA2 which accounts for 0.03 percent of the variance as the Y axis.  Using this construct we see several distinctions emerge.\n",
        "\n",
        "Perhaps the most prominent thing we see is that there are clearly two distinct clusters of Shakespeare character: cluster 0 on green and cluster 1 in red. Graphically they appear to make up about the same amount of characters, but we can clearly see that the variation in cluster 0 is much less than that of cluster 1.  This dispersion suggests that the characters in cluster 0 are tightly related, while the characters in cluster 1 are not.  For example, we see charter “hyman” is one of the central characters in cluster 0.  We also see that character “king philip” is one of the central characters in cluster 0.  These characters sever as a sort of center of gravity for the cluster which tells us that based on things these characters say (at least according to our dataset), the other characters near them are similar to them.  My original hypothesis was that perhaps cluster 0 centered on good people, and cluster 1 centered on villains, however, after further investigation that did not hold.\n",
        "\n",
        "We can also see that in both cluster 0 and in cluster 1 there are some characters that are far from the center of each cluster.  These characters could be considered outliers and are denoted with labels for their names.  Without additional data to provide context, there are limited conclusions we can draw about the fact that they are so far away from their center.  It is interesting to note however, that cluster 1 has many more outlying characters than cluster 0. Knowing more about these characters would help tell the story between these two clusters.\n"
      ]
    },
    {
      "cell_type": "code",
      "metadata": {
        "id": "G4SFU0JyH_NF"
      },
      "source": [
        ""
      ],
      "execution_count": null,
      "outputs": []
    }
  ]
}